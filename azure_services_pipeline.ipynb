{
 "cells": [
  {
   "cell_type": "code",
   "execution_count": 74,
   "id": "f7084d11",
   "metadata": {},
   "outputs": [],
   "source": [
    "# import libraries\n",
    "import os\n",
    "from azure.core.credentials import AzureKeyCredential\n",
    "from azure.ai.documentintelligence import DocumentIntelligenceClient\n",
    "from azure.ai.documentintelligence.models import AnalyzeResult\n",
    "from azure.ai.documentintelligence.models import AnalyzeDocumentRequest\n",
    "from dotenv import load_dotenv\n",
    "from azure.core.credentials import AzureKeyCredential\n",
    "from azure.ai.formrecognizer import DocumentAnalysisClient\n"
   ]
  },
  {
   "cell_type": "code",
   "execution_count": 83,
   "id": "5dfa5866",
   "metadata": {},
   "outputs": [],
   "source": [
    "# Load environment variables\n",
    "load_dotenv()\n",
    "\n",
    "# change this\n",
    "endpoint = os.getenv(\"AZURE_COGNITIVE_ENDPOINT\")\n",
    "key = os.getenv(\"AZURE_COGNITIVE_KEY\")\n",
    "gpt4_endpoint = os.getenv(\"OPENAI_ENDPOINT\")\n",
    "gpt4_key = os.getenv(\"OPENAI_KEY\")"
   ]
  },
  {
   "cell_type": "markdown",
   "id": "2f35cea4",
   "metadata": {},
   "source": [
    "# Step 1: azure Document Intelligence\n",
    "\n",
    "Input: a pdf n\n",
    "\n",
    "Output: location of identified text, table and figures with corresponding text"
   ]
  },
  {
   "cell_type": "code",
   "execution_count": 16,
   "id": "83eaf860",
   "metadata": {},
   "outputs": [
    {
     "name": "stdout",
     "output_type": "stream",
     "text": [
      "/Users/lingruiz/Documents/capstone/data/10k/plya_consolidated_balance_sheets.pdf\n"
     ]
    }
   ],
   "source": [
    "# sample document\n",
    "base_path = os.path.abspath(os.path.join(os.getcwd(), '../data'))\n",
    "\n",
    "formPath = os.path.join(base_path, \"10k/plya_consolidated_balance_sheets.pdf\")\n",
    "print(formPath)"
   ]
  },
  {
   "cell_type": "code",
   "execution_count": 20,
   "id": "6858fc93",
   "metadata": {},
   "outputs": [],
   "source": [
    "def open_pdf(path):\n",
    "    with open(path, \"rb\") as f:\n",
    "        return f.read()\n",
    "\n",
    "\n",
    "def get_result(formPath, client):\n",
    "    # read and analyze the document\n",
    "    poller = client.begin_analyze_document(\"prebuilt-layout\", open_pdf(formPath))\n",
    "    result = poller.result()\n",
    "    return result"
   ]
  },
  {
   "cell_type": "code",
   "execution_count": 21,
   "id": "f75096ec",
   "metadata": {},
   "outputs": [],
   "source": [
    "# create a client\n",
    "document_analysis_client = DocumentAnalysisClient(\n",
    "    endpoint=endpoint, credential=AzureKeyCredential(key)\n",
    ")"
   ]
  },
  {
   "cell_type": "code",
   "execution_count": 22,
   "id": "516a7439",
   "metadata": {},
   "outputs": [],
   "source": [
    "# run the service, save result\n",
    "result = get_result(formPath, document_analysis_client)\n"
   ]
  },
  {
   "cell_type": "markdown",
   "id": "2591a050",
   "metadata": {},
   "source": [
    "## Explore result structure"
   ]
  },
  {
   "cell_type": "code",
   "execution_count": 42,
   "id": "7b441b81",
   "metadata": {},
   "outputs": [
    {
     "name": "stdout",
     "output_type": "stream",
     "text": [
      "table #0: \n",
      "row count:32\n",
      "column count:3 \n",
      "\n",
      "table #1: \n",
      "row count:32\n",
      "column count:4 \n",
      "\n"
     ]
    }
   ],
   "source": [
    "# tables are embedded in result.tables, to query the tables, do the following: \n",
    "# result.tables returns a list of tables in the pdf document, \n",
    "# access row count with row_count, and column count with column_count\n",
    "\n",
    "\n",
    "for index, table in enumerate(result.tables):\n",
    "    print(f\"table #{index}: \\nrow count:{table.row_count}\")\n",
    "    print(f\"column count:{table.column_count} \\n\")"
   ]
  },
  {
   "cell_type": "markdown",
   "id": "75244755",
   "metadata": {},
   "source": [
    "# Convert result to df/csv"
   ]
  },
  {
   "cell_type": "code",
   "execution_count": 45,
   "id": "4c84c4f5",
   "metadata": {},
   "outputs": [],
   "source": [
    "def convert_azdoc_todf(tables):\n",
    "    tablesCollected = []\n",
    "    for table_idx, table in enumerate(tables):\n",
    "        # Initialize an empty matrix\n",
    "        matrix = [[\"\" for _ in range(table.column_count)] for _ in range(table.row_count)]\n",
    "        tablesCollected.append(matrix)\n",
    "        for cell in table.cells:\n",
    "            row_index = cell.row_index\n",
    "            column_index = cell.column_index\n",
    "\n",
    "            if row_index < table.row_count and column_index < table.column_count:\n",
    "                matrix[row_index][column_index] = cell.content\n",
    "    \n",
    "    return tablesCollected"
   ]
  },
  {
   "cell_type": "code",
   "execution_count": 90,
   "id": "6f4c777f",
   "metadata": {},
   "outputs": [],
   "source": [
    "def convert_azdoc_tostring(tables):\n",
    "    result = \"\"\n",
    "    for table_idx, table in enumerate(tables):\n",
    "        result += f\"Table {table_idx + 1}:\\n\"\n",
    "        matrix = [[\"\" for _ in range(table.column_count)] for _ in range(table.row_count)]\n",
    "        \n",
    "        for cell in table.cells:\n",
    "            row_index = cell.row_index\n",
    "            column_index = cell.column_index\n",
    "\n",
    "            if row_index < table.row_count and column_index < table.column_count:\n",
    "                matrix[row_index][column_index] = cell.content\n",
    "        \n",
    "        # Convert each row in the matrix to a string\n",
    "        for row in matrix:\n",
    "            row_str = \"\\t\".join(row)  # Separate columns by tabs for readability\n",
    "            result += row_str + \"\\n\"\n",
    "        \n",
    "        result += \"\\n\"  # Separate tables by a blank line\n",
    "        \n",
    "    return result\n",
    "\n",
    "def convert_azdoc_to_markdown(tables):\n",
    "    markdown_tables = \"\"\n",
    "    for table_idx, table in enumerate(tables):\n",
    "        # Initialize an empty matrix for the table\n",
    "        matrix = [[\"\" for _ in range(table.column_count)] for _ in range(table.row_count)]\n",
    "        \n",
    "        # Fill in the matrix with cell content\n",
    "        for cell in table.cells:\n",
    "            row_index = cell.row_index\n",
    "            column_index = cell.column_index\n",
    "            if row_index < table.row_count and column_index < table.column_count:\n",
    "                matrix[row_index][column_index] = cell.content\n",
    "        \n",
    "        # Convert matrix to Markdown format\n",
    "        markdown_table = \"| \" + \" | \".join(matrix[0]) + \" |\\n\"  # Header row\n",
    "        markdown_table += \"| \" + \" | \".join(['---' for _ in matrix[0]]) + \" |\\n\"  # Divider row\n",
    "        \n",
    "        for row in matrix[1:]:  # Data rows\n",
    "            markdown_table += \"| \" + \" | \".join(row) + \" |\\n\"\n",
    "        \n",
    "        # Add each table to the result with a separating line between tables\n",
    "        markdown_tables += f\"### Table {table_idx + 1}\\n\" + markdown_table + \"\\n\\n\"\n",
    "    \n",
    "    return markdown_tables\n",
    "\n"
   ]
  },
  {
   "cell_type": "code",
   "execution_count": 91,
   "id": "ae84751e",
   "metadata": {},
   "outputs": [],
   "source": [
    "table_md = convert_azdoc_to_markdown(result.tables)"
   ]
  },
  {
   "cell_type": "markdown",
   "id": "aa207a97",
   "metadata": {},
   "source": [
    "## Step 2: Azure OpenAI Studio "
   ]
  },
  {
   "cell_type": "code",
   "execution_count": 84,
   "id": "5dadb15c",
   "metadata": {},
   "outputs": [
    {
     "data": {
      "text/plain": [
       "'https://ai-lingruiz7765ai414752438778.openai.azure.com'"
      ]
     },
     "execution_count": 84,
     "metadata": {},
     "output_type": "execute_result"
    }
   ],
   "source": [
    "gpt4_endpoint"
   ]
  },
  {
   "cell_type": "code",
   "execution_count": 80,
   "id": "93a2c035",
   "metadata": {},
   "outputs": [],
   "source": [
    "from openai import AzureOpenAI\n",
    "    \n",
    "client = AzureOpenAI(\n",
    "    api_key=gpt4_key,  \n",
    "    api_version=\"2024-08-01-preview\",\n",
    "    azure_endpoint = gpt4_endpoint\n",
    "    )"
   ]
  },
  {
   "cell_type": "code",
   "execution_count": 87,
   "id": "491fad87",
   "metadata": {},
   "outputs": [],
   "source": [
    "SYSTEM_PROMPT = \"given the balance sheet above, calculate below ratios: Current Ratio = Current Assets / Current Liabilities and compute  a credit score to evaluate the financial status of the company\""
   ]
  },
  {
   "cell_type": "code",
   "execution_count": 85,
   "id": "17fd7a26",
   "metadata": {},
   "outputs": [
    {
     "name": "stdout",
     "output_type": "stream",
     "text": [
      "Yes, many Azure AI services provide support for customer managed keys as part of the security and compliance features. Services such as Azure Cognitive Services allow you to use customer managed keys to control and manage the encryption of your data at rest. This feature is implemented to enhance the security measures, ensuring that data handling complies with strict privacy and regulatory requirements. Always check the specific documentation for each Azure AI service to confirm the availability and specific implementation details of customer managed keys for that service.\n"
     ]
    }
   ],
   "source": [
    "# Define deployment name for the model\n",
    "# if needed, add to session chat history to prior prompt the model\n",
    "# example use: \n",
    "# {\"role\": \"user\", \"content\": \"Does Azure OpenAI support customer managed keys?\"},\n",
    "#  # {\"role\": \"assistant\", \"content\": \"Yes, customer managed keys are supported by Azure OpenAI.\"},\n",
    "\n",
    "deployment_name = 'gpt-4'\n",
    "\n",
    "response = client.chat.completions.create(\n",
    "    model=\"gpt-4\",\n",
    "    messages=[\n",
    "        {\"role\": \"system\", \"content\": SYSTEM_PROMPT},\n",
    "        {\"role\": \"user\", \"content\": table_md}\n",
    "    ]\n",
    ")\n",
    "\n",
    "print(response.choices[0].message.content)\n"
   ]
  }
 ],
 "metadata": {
  "kernelspec": {
   "display_name": "base",
   "language": "python",
   "name": "python3"
  },
  "language_info": {
   "codemirror_mode": {
    "name": "ipython",
    "version": 3
   },
   "file_extension": ".py",
   "mimetype": "text/x-python",
   "name": "python",
   "nbconvert_exporter": "python",
   "pygments_lexer": "ipython3",
   "version": "3.11.5"
  }
 },
 "nbformat": 4,
 "nbformat_minor": 5
}
