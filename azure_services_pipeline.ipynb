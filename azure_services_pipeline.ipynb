{
 "cells": [
  {
   "cell_type": "code",
   "execution_count": 5,
   "id": "f7084d11",
   "metadata": {},
   "outputs": [],
   "source": [
    "# import libraries\n",
    "import os\n",
    "from azure.core.credentials import AzureKeyCredential\n",
    "from azure.ai.documentintelligence import DocumentIntelligenceClient\n",
    "from azure.ai.documentintelligence.models import AnalyzeResult\n",
    "from azure.ai.documentintelligence.models import AnalyzeDocumentRequest\n",
    "from dotenv import load_dotenv\n",
    "from azure.core.credentials import AzureKeyCredential\n",
    "from azure.ai.formrecognizer import DocumentAnalysisClient\n",
    "import pandas as pd\n",
    "import numpy as np\n",
    "import openai\n",
    "from openai import OpenAI"
   ]
  },
  {
   "cell_type": "code",
   "execution_count": 4,
   "id": "5dfa5866",
   "metadata": {},
   "outputs": [],
   "source": [
    "# Load environment variables\n",
    "load_dotenv()\n",
    "\n",
    "# change this\n",
    "endpoint = os.getenv(\"AZURE_COGNITIVE_ENDPOINT\")\n",
    "key = os.getenv(\"AZURE_COGNITIVE_KEY\")\n",
    "gpt4_endpoint = os.getenv(\"OPENAI_ENDPOINT\")\n",
    "gpt4_key = os.getenv(\"OPENAI_KEY\")\n",
    "openai_key = os.getenv(\"OPENAI_SEC_KEY\")"
   ]
  },
  {
   "cell_type": "markdown",
   "id": "02c3d26f",
   "metadata": {},
   "source": [
    "# Step 1: Preprocessing Large 10K/10Q documents, get Balance Sheets\n",
    "\n",
    "Edgar Tool"
   ]
  },
  {
   "cell_type": "code",
   "execution_count": 28,
   "id": "f40d50d8",
   "metadata": {},
   "outputs": [
    {
     "data": {
      "text/html": [
       "<pre style=\"white-space:pre;overflow-x:auto;line-height:normal;font-family:Menlo,'DejaVu Sans Mono',consolas,'Courier New',monospace\"><span style=\"color: #7fbfbf; text-decoration-color: #7fbfbf\">[21:08:01] </span><span style=\"color: #000080; text-decoration-color: #000080\">INFO    </span> Identity of the Edgar REST client set to <span style=\"font-weight: bold\">[</span>Jessie Zeng lingruiz@andrew.cmu.edu<span style=\"font-weight: bold\">]</span>      <a href=\"file:///Users/lingruiz/anaconda3/lib/python3.11/site-packages/edgar/core.py\" target=\"_blank\"><span style=\"color: #7f7f7f; text-decoration-color: #7f7f7f\">core.py</span></a><span style=\"color: #7f7f7f; text-decoration-color: #7f7f7f\">:</span><a href=\"file:///Users/lingruiz/anaconda3/lib/python3.11/site-packages/edgar/core.py#161\" target=\"_blank\"><span style=\"color: #7f7f7f; text-decoration-color: #7f7f7f\">161</span></a>\n",
       "</pre>\n"
      ],
      "text/plain": [
       "\u001b[2;36m[21:08:01]\u001b[0m\u001b[2;36m \u001b[0m\u001b[34mINFO    \u001b[0m Identity of the Edgar REST client set to \u001b[1m[\u001b[0mJessie Zeng lingruiz@andrew.cmu.edu\u001b[1m]\u001b[0m      \u001b]8;id=466369;file:///Users/lingruiz/anaconda3/lib/python3.11/site-packages/edgar/core.py\u001b\\\u001b[2mcore.py\u001b[0m\u001b]8;;\u001b\\\u001b[2m:\u001b[0m\u001b]8;id=949090;file:///Users/lingruiz/anaconda3/lib/python3.11/site-packages/edgar/core.py#161\u001b\\\u001b[2m161\u001b[0m\u001b]8;;\u001b\\\n"
      ]
     },
     "metadata": {},
     "output_type": "display_data"
    }
   ],
   "source": [
    "from edgar import *\n",
    "# Tell the SEC who you are\n",
    "set_identity(\"Jessie Zeng lingruiz@andrew.cmu.edu\")"
   ]
  },
  {
   "cell_type": "code",
   "execution_count": 29,
   "id": "9ee7422a",
   "metadata": {},
   "outputs": [],
   "source": [
    "def edgarTool_get_filing(ticker, form_type, num_filings):\n",
    "    # Get the latest 10-K filing for Apple\n",
    "    filing = Company(ticker).get_filings(form=form_type).latest(num_filings)\n",
    "    return filing"
   ]
  },
  {
   "cell_type": "code",
   "execution_count": 36,
   "id": "942cc581",
   "metadata": {},
   "outputs": [],
   "source": [
    "company_cik = \"NWBI\""
   ]
  },
  {
   "cell_type": "code",
   "execution_count": 37,
   "id": "8f1ad135",
   "metadata": {},
   "outputs": [],
   "source": [
    "# get filing by looking up the ticker and form type\n",
    "filing = edgarTool_get_filing(company_cik, \"10-K\", 1)"
   ]
  },
  {
   "cell_type": "code",
   "execution_count": 38,
   "id": "37c9efcb",
   "metadata": {},
   "outputs": [
    {
     "name": "stderr",
     "output_type": "stream",
     "text": [
      "/Users/lingruiz/anaconda3/lib/python3.11/site-packages/pandas/core/arrays/arrow/array.py:716: FutureWarning: elementwise comparison failed; returning scalar instead, but in the future will perform elementwise comparison\n",
      "  result[valid] = op(np_array[valid], other)\n",
      "/Users/lingruiz/anaconda3/lib/python3.11/site-packages/pandas/core/arrays/arrow/array.py:716: FutureWarning: elementwise comparison failed; returning scalar instead, but in the future will perform elementwise comparison\n",
      "  result[valid] = op(np_array[valid], other)\n",
      "/Users/lingruiz/anaconda3/lib/python3.11/site-packages/pandas/core/arrays/arrow/array.py:716: FutureWarning: elementwise comparison failed; returning scalar instead, but in the future will perform elementwise comparison\n",
      "  result[valid] = op(np_array[valid], other)\n"
     ]
    },
    {
     "data": {
      "text/html": [
       "<pre style=\"white-space:pre;overflow-x:auto;line-height:normal;font-family:Menlo,'DejaVu Sans Mono',consolas,'Courier New',monospace\"></pre>\n"
      ],
      "text/plain": []
     },
     "metadata": {},
     "output_type": "display_data"
    },
    {
     "data": {
      "text/plain": [
       "                                            \u001b[1;38;5;38mNORTHWEST BANCSHARES, INC.\u001b[0m                                             \n",
       "                                       \u001b[1mConsolidated Statement of Cash Flows\u001b[0m                                        \n",
       "                                                                                                                   \n",
       " \u001b[1m \u001b[0m\u001b[1m                                                             \u001b[0m\u001b[1m \u001b[0m \u001b[1m            \u001b[0m\u001b[1m \u001b[0m \u001b[1m      2023\u001b[0m\u001b[1m \u001b[0m \u001b[1m      2022\u001b[0m\u001b[1m \u001b[0m \u001b[1m      2021\u001b[0m\u001b[1m \u001b[0m \n",
       " ───────────────────────────────────────────────────────────────────────────────────────────────────────────────── \n",
       "  \u001b[1;38;5;32mStatement of Cash Flows [Abstract]                           \u001b[0m                                                    \n",
       "                                                                                                                   \n",
       "                                                                                                                   \n",
       "  \u001b[1;38;5;32m  Operating activities:                                      \u001b[0m                                                    \n",
       "  \u001b[2;38;5;250m    Net income †                                             \u001b[0m  \u001b[2;38;5;249mthousands   \u001b[0m     134,957     133,666     154,323  \n",
       "                                                                                                                   \n",
       "  \u001b[1;38;5;32m    Adjustments to reconcile net income to net cash provided \u001b[0m                                                    \n",
       "  \u001b[1;38;5;32mby operating activities:                                     \u001b[0m                                                    \n",
       "  \u001b[2;38;5;250m      Provision for credit losses                            \u001b[0m  \u001b[2;38;5;249mthousands   \u001b[0m      22,874      28,315     -15,788  \n",
       "  \u001b[2;38;5;250m      Loss on sale of investments                            \u001b[0m  \u001b[2;38;5;249mthousands   \u001b[0m       8,307           0           0  \n",
       "  \u001b[2;38;5;250m      Net loss/(gain) on sale of assets                      \u001b[0m  \u001b[2;38;5;249mthousands   \u001b[0m      -2,117         -42      -1,201  \n",
       "  \u001b[2;38;5;250m      Mortgage banking activity                              \u001b[0m  \u001b[2;38;5;249mthousands   \u001b[0m        -895      -3,512     -20,120  \n",
       "  \u001b[2;38;5;250m      Gain on sale of SBA loans                              \u001b[0m  \u001b[2;38;5;249mthousands   \u001b[0m      -1,754          -0          -0  \n",
       "  \u001b[2;38;5;250m      Gain on sale of mortgage servicing rights              \u001b[0m  \u001b[2;38;5;249mthousands   \u001b[0m      -8,305          -0          -0  \n",
       "  \u001b[2;38;5;250m      Gain on sale of loans                                  \u001b[0m  \u001b[2;38;5;249mthousands   \u001b[0m        -726          -0          -0  \n",
       "  \u001b[2;38;5;250m      Gain on sale of insurance business                     \u001b[0m  \u001b[2;38;5;249mthousands   \u001b[0m          -0          -0     -25,327  \n",
       "  \u001b[2;38;5;250m      Net depreciation, amortization and accretion           \u001b[0m  \u001b[2;38;5;249mthousands   \u001b[0m      24,497       6,448       6,633  \n",
       "  \u001b[2;38;5;250m      (Increase)/decrease in other assets                    \u001b[0m  \u001b[2;38;5;249mthousands   \u001b[0m    -117,813     -33,751     -22,163  \n",
       "  \u001b[2;38;5;250m      Increase in other liabilities                          \u001b[0m  \u001b[2;38;5;249mthousands   \u001b[0m      21,771      19,775       7,930  \n",
       "  \u001b[2;38;5;250m      Net amortization on marketable securities              \u001b[0m  \u001b[2;38;5;249mthousands   \u001b[0m      -3,090      -4,808      -7,757  \n",
       "  \u001b[2;38;5;250m      Noncash compensation expense related to stock benefit  \u001b[0m  \u001b[2;38;5;249mthousands   \u001b[0m       4,576       4,074       4,742  \n",
       "  \u001b[2;38;5;250mplans                                                        \u001b[0m                                                    \n",
       "  \u001b[2;38;5;250m      Noncash write-down of real estate owned                \u001b[0m  \u001b[2;38;5;249mthousands   \u001b[0m         100          54         173  \n",
       "  \u001b[2;38;5;250m      Deferred income tax (benefit)/expense                  \u001b[0m  \u001b[2;38;5;249mthousands   \u001b[0m      -4,920      -5,504      12,314  \n",
       "  \u001b[2;38;5;250m      Origination of loans held-for-sale                     \u001b[0m  \u001b[2;38;5;249mthousands   \u001b[0m    -198,637    -362,867    -752,831  \n",
       "  \u001b[2;38;5;250m      Proceeds from sale of loans held-for-sale              \u001b[0m  \u001b[2;38;5;249mthousands   \u001b[0m     203,651     383,883     804,690  \n",
       "                                                                                                                   \n",
       "  \u001b[2;38;5;250m    Net cash provided by operating activities †              \u001b[0m  \u001b[2;38;5;249mthousands   \u001b[0m      92,890     175,431     205,458  \n",
       "                                                                                                                   \n",
       "  \u001b[1;38;5;32m  Investing activities:                                      \u001b[0m                                                    \n",
       "  \u001b[2;38;5;250m    Purchase of marketable securities held-to-maturity       \u001b[0m  \u001b[2;38;5;249mthousands   \u001b[0m          -0    -212,892    -658,817  \n",
       "  \u001b[2;38;5;250m    Purchase of marketable securities available-for-sale     \u001b[0m  \u001b[2;38;5;249mthousands   \u001b[0m     -23,502    -102,178    -705,146  \n",
       "  \u001b[2;38;5;250m    Proceeds from maturities and principal reductions of     \u001b[0m  \u001b[2;38;5;249mthousands   \u001b[0m      65,588      98,701      68,495  \n",
       "  \u001b[2;38;5;250mmarketable securities held-to-maturity                       \u001b[0m                                                    \n",
       "  \u001b[2;38;5;250m    Proceeds from maturities and principal reductions of     \u001b[0m  \u001b[2;38;5;249mthousands   \u001b[0m     103,424     231,728     449,372  \n",
       "  \u001b[2;38;5;250mmarketable securities available-for-sale                     \u001b[0m                                                    \n",
       "  \u001b[2;38;5;250m    Proceeds from sale of marketable securities              \u001b[0m  \u001b[2;38;5;249m            \u001b[0m       1,012           0         596  \n",
       "  \u001b[2;38;5;250mavailable-for-sale                                           \u001b[0m                                                    \n",
       "  \u001b[2;38;5;250m    Proceeds from bank-owned life insurance                  \u001b[0m  \u001b[2;38;5;249mthousands   \u001b[0m      13,307       5,096       3,984  \n",
       "  \u001b[2;38;5;250m    Proceeds from sale of mortgage servicing rights          \u001b[0m  \u001b[2;38;5;249mthousands   \u001b[0m      13,118           0           0  \n",
       "  \u001b[2;38;5;250m    Loan originations                                        \u001b[0m  \u001b[2;38;5;249mthousands   \u001b[0m  -3,963,743  -4,585,563  -3,961,816  \n",
       "  \u001b[2;38;5;250m    Loan purchases †                                         \u001b[0m  \u001b[2;38;5;249mthousands   \u001b[0m          -0    -371,121          -0  \n",
       "  \u001b[2;38;5;250m    Proceeds from loan maturities and principal reductions   \u001b[0m  \u001b[2;38;5;249mthousands   \u001b[0m   3,446,731   4,047,147   4,490,089  \n",
       "  \u001b[2;38;5;250m    Net redemptions/(proceeds) of FHLB stock                 \u001b[0m  \u001b[2;38;5;249mthousands   \u001b[0m      -9,997     -25,959      -7,564  \n",
       "  \u001b[2;38;5;250m    Proceeds from sale of real estate owned                  \u001b[0m  \u001b[2;38;5;249mthousands   \u001b[0m       2,735       1,633       2,700  \n",
       "  \u001b[2;38;5;250m    Proceeds from sale of real estate owned for investment,  \u001b[0m  \u001b[2;38;5;249mthousands   \u001b[0m           0         305         305  \n",
       "  \u001b[2;38;5;250mnet                                                          \u001b[0m                                                    \n",
       "  \u001b[2;38;5;250m    Purchases of premises and equipment                      \u001b[0m  \u001b[2;38;5;249mthousands   \u001b[0m      -8,564      -4,320     -17,517  \n",
       "  \u001b[2;38;5;250m    Proceeds from sale of insurance business                 \u001b[0m  \u001b[2;38;5;249mthousands   \u001b[0m           0           0      28,238  \n",
       "  \u001b[2;38;5;250m    Net cash used in investing activities †                  \u001b[0m  \u001b[2;38;5;249mthousands   \u001b[0m    -239,680    -917,423    -232,970  \n",
       "                                                                                                                   \n",
       "  \u001b[1;38;5;32m  Financing activities:                                      \u001b[0m                                                    \n",
       "  \u001b[2;38;5;250m    Net increase/(decrease) in deposits                      \u001b[0m  \u001b[2;38;5;249mthousands   \u001b[0m     515,354    -836,617     701,932  \n",
       "  \u001b[2;38;5;250m    Repayments of long-term borrowings                       \u001b[0m  \u001b[2;38;5;249mthousands   \u001b[0m          -0     -10,094     -22,105  \n",
       "  \u001b[2;38;5;250m    Net (decrease)/increase in short-term borrowings         \u001b[0m  \u001b[2;38;5;249mthousands   \u001b[0m    -282,270     542,073       1,432  \n",
       "  \u001b[2;38;5;250m    (Decrease)/increase in advances by borrowers for taxes   \u001b[0m  \u001b[2;38;5;249mthousands   \u001b[0m      -2,360       3,031        -648  \n",
       "  \u001b[2;38;5;250mand insurance                                                \u001b[0m                                                    \n",
       "  \u001b[2;38;5;250m    Cash dividends paid on common stock †                    \u001b[0m  \u001b[2;38;5;249mthousands   \u001b[0m    -101,669    -101,468    -100,274  \n",
       "  \u001b[2;38;5;250m    Proceeds from stock options exercised †                  \u001b[0m  \u001b[2;38;5;249mthousands   \u001b[0m         630       5,173      14,011  \n",
       "  \u001b[2;38;5;250m    Purchase of common stock for retirement †                \u001b[0m  \u001b[2;38;5;249mthousands   \u001b[0m          -0          -0     -23,854  \n",
       "  \u001b[2;38;5;250m    Net cash provided by/(used in) financing activities †    \u001b[0m  \u001b[2;38;5;249mthousands   \u001b[0m     129,685    -397,902     570,494  \n",
       "                                                                                                                   \n",
       "  \u001b[2;38;5;250m  Net (decrease)/increase in cash and cash equivalents †     \u001b[0m  \u001b[2;38;5;249mthousands   \u001b[0m     -17,105  -1,139,894     542,982  \n",
       "  \u001b[2;38;5;250m  Cash and cash equivalents at end of period †               \u001b[0m  \u001b[2;38;5;249mthousands   \u001b[0m     122,260     139,365   1,279,259  \n",
       "                                                                                                                   \n",
       "  \u001b[1;38;5;32m  Supplemental cash flow information:                        \u001b[0m                                                    \n",
       "                                                                                                                   \n",
       "                                                                                                                   \n",
       "  \u001b[1;38;5;32m    Cash paid during the period for:                         \u001b[0m                                                    \n",
       "  \u001b[2;38;5;250m      Interest on deposits and borrowings (including interest\u001b[0m  \u001b[2;38;5;249mthousands   \u001b[0m     141,801      26,690      27,496  \n",
       "  \u001b[2;38;5;250mcredited to deposit accounts of $86,316, $13,399, and        \u001b[0m                                                    \n",
       "  \u001b[2;38;5;250m$18,711, respectively)                                       \u001b[0m                                                    \n",
       "  \u001b[2;38;5;250m      Income taxes                                           \u001b[0m  \u001b[2;38;5;249mthousands   \u001b[0m      47,996      39,365      33,576  \n",
       "                                                                                                                   \n",
       "  \u001b[1;38;5;32m    Noncash activities:                                      \u001b[0m                                                    \n",
       "  \u001b[2;38;5;250m      Loan foreclosures and repossessions                    \u001b[0m  \u001b[2;38;5;249mthousands   \u001b[0m       4,055       4,076       4,897  \n",
       "  \u001b[2;38;5;250m      Sale of real estate owned financed by the Company      \u001b[0m  \u001b[2;38;5;249mthousands   \u001b[0m          70         175          54  \n",
       "                                                                                                                   \n",
       "\n",
       "\u001b[2;3m† Indicates items with dimensional breakdowns available\u001b[0m"
      ]
     },
     "execution_count": 38,
     "metadata": {},
     "output_type": "execute_result"
    }
   ],
   "source": [
    "from edgar.financials import Financials\n",
    "financials = Financials(filing.xbrl())\n",
    "financials.get_balance_sheet()\n",
    "financials.get_income_statement()\n",
    "financials.get_cash_flow_statement()"
   ]
  },
  {
   "cell_type": "markdown",
   "id": "38208155",
   "metadata": {},
   "source": [
    "## get 3 sheets, export to different formats(csv, json)"
   ]
  },
  {
   "cell_type": "code",
   "execution_count": 25,
   "id": "b3029a3f",
   "metadata": {},
   "outputs": [
    {
     "name": "stderr",
     "output_type": "stream",
     "text": [
      "/Users/lingruiz/anaconda3/lib/python3.11/site-packages/pandas/core/arrays/arrow/array.py:716: FutureWarning: elementwise comparison failed; returning scalar instead, but in the future will perform elementwise comparison\n",
      "  result[valid] = op(np_array[valid], other)\n",
      "/Users/lingruiz/anaconda3/lib/python3.11/site-packages/pandas/core/arrays/arrow/array.py:716: FutureWarning: elementwise comparison failed; returning scalar instead, but in the future will perform elementwise comparison\n",
      "  result[valid] = op(np_array[valid], other)\n",
      "/Users/lingruiz/anaconda3/lib/python3.11/site-packages/pandas/core/arrays/arrow/array.py:716: FutureWarning: elementwise comparison failed; returning scalar instead, but in the future will perform elementwise comparison\n",
      "  result[valid] = op(np_array[valid], other)\n"
     ]
    }
   ],
   "source": [
    "# another way to get balance sheet\n",
    "# tenk = Company(\"AAPL\").get_filings(form=\"10-K\").latest(1).obj()\n",
    "financials = Financials(filing.xbrl())\n",
    "balance_sheet_df = financials.get_balance_sheet().get_dataframe().reset_index()\n",
    "income_statement_df = financials.get_income_statement().get_dataframe().reset_index()\n",
    "cash_flow_df = financials.get_cash_flow_statement().get_dataframe().reset_index()"
   ]
  },
  {
   "cell_type": "code",
   "execution_count": 26,
   "id": "552eee0a",
   "metadata": {},
   "outputs": [
    {
     "data": {
      "text/html": [
       "<div>\n",
       "<style scoped>\n",
       "    .dataframe tbody tr th:only-of-type {\n",
       "        vertical-align: middle;\n",
       "    }\n",
       "\n",
       "    .dataframe tbody tr th {\n",
       "        vertical-align: top;\n",
       "    }\n",
       "\n",
       "    .dataframe thead th {\n",
       "        text-align: right;\n",
       "    }\n",
       "</style>\n",
       "<table border=\"1\" class=\"dataframe\">\n",
       "  <thead>\n",
       "    <tr style=\"text-align: right;\">\n",
       "      <th></th>\n",
       "      <th>label</th>\n",
       "      <th>2023</th>\n",
       "      <th>2022</th>\n",
       "    </tr>\n",
       "  </thead>\n",
       "  <tbody>\n",
       "    <tr>\n",
       "      <th>0</th>\n",
       "      <td>Statement of Financial Position [Abstract]</td>\n",
       "      <td></td>\n",
       "      <td></td>\n",
       "    </tr>\n",
       "    <tr>\n",
       "      <th>1</th>\n",
       "      <td>ASSETS</td>\n",
       "      <td></td>\n",
       "      <td></td>\n",
       "    </tr>\n",
       "    <tr>\n",
       "      <th>2</th>\n",
       "      <td>Current assets:</td>\n",
       "      <td></td>\n",
       "      <td></td>\n",
       "    </tr>\n",
       "    <tr>\n",
       "      <th>3</th>\n",
       "      <td>Cash and cash equivalents</td>\n",
       "      <td>440459000</td>\n",
       "      <td>267397000</td>\n",
       "    </tr>\n",
       "    <tr>\n",
       "      <th>4</th>\n",
       "      <td>Accounts receivable, net of allowance for cred...</td>\n",
       "      <td>1148259000</td>\n",
       "      <td>834513000</td>\n",
       "    </tr>\n",
       "  </tbody>\n",
       "</table>\n",
       "</div>"
      ],
      "text/plain": [
       "                                               label        2023       2022\n",
       "0         Statement of Financial Position [Abstract]                       \n",
       "1                                             ASSETS                       \n",
       "2                                    Current assets:                       \n",
       "3                          Cash and cash equivalents   440459000  267397000\n",
       "4  Accounts receivable, net of allowance for cred...  1148259000  834513000"
      ]
     },
     "execution_count": 26,
     "metadata": {},
     "output_type": "execute_result"
    }
   ],
   "source": [
    "balance_sheet_df.head()"
   ]
  },
  {
   "cell_type": "code",
   "execution_count": 27,
   "id": "ee67f11f",
   "metadata": {},
   "outputs": [],
   "source": [
    "def export_csv(df, company_name, form_type):\n",
    "    df.to_csv(f'../data/10K/{company_name}_{form_type}.csv', index=False)"
   ]
  },
  {
   "cell_type": "code",
   "execution_count": 28,
   "id": "9126617c",
   "metadata": {},
   "outputs": [],
   "source": [
    "export_csv(balance_sheet_df, company_cik, \"balance_sheet\")\n",
    "export_csv(income_statement_df, company_cik, \"income_statement\")\n",
    "export_csv(cash_flow_df, company_cik, \"cash_flow\")"
   ]
  },
  {
   "cell_type": "code",
   "execution_count": 30,
   "id": "41643eb1",
   "metadata": {},
   "outputs": [],
   "source": [
    "def dataframe_to_markdown(df: pd.DataFrame) -> str:\n",
    "    # Create the header row\n",
    "    header = \"| \" + \" | \".join(df.columns) + \" |\\n\"\n",
    "    separator = \"| \" + \" | \".join([\"---\"] * len(df.columns)) + \" |\\n\"\n",
    "    \n",
    "    # Create the data rows\n",
    "    rows = \"\"\n",
    "    for _, row in df.iterrows():\n",
    "        row_text = \"| \" + \" | \".join(map(str, row)) + \" |\\n\"\n",
    "        rows += row_text\n",
    "    \n",
    "    return header + separator + rows\n"
   ]
  },
  {
   "cell_type": "code",
   "execution_count": 31,
   "id": "938f6011",
   "metadata": {},
   "outputs": [],
   "source": [
    "with open(f'../data/10K/{company_cik}_sheet.txt', 'w') as file:\n",
    "    file.write(\"\\n balance sheet \\n\")\n",
    "    file.write(dataframe_to_markdown(balance_sheet_df))\n",
    "    file.write(\"\\n income statement \\n\")\n",
    "    file.write(dataframe_to_markdown(income_statement_df))\n",
    "    file.write(\"\\n cash flow statment \\n\")\n",
    "    file.write(dataframe_to_markdown(cash_flow_df))\n",
    "    file.close()"
   ]
  },
  {
   "cell_type": "markdown",
   "id": "2f35cea4",
   "metadata": {},
   "source": [
    "# Step 1.1: azure Document Intelligence\n",
    "\n",
    "Input: a pdf n\n",
    "\n",
    "Output: location of identified text, table and figures with corresponding text"
   ]
  },
  {
   "cell_type": "code",
   "execution_count": 16,
   "id": "83eaf860",
   "metadata": {},
   "outputs": [
    {
     "name": "stdout",
     "output_type": "stream",
     "text": [
      "/Users/lingruiz/Documents/capstone/data/10k/plya_consolidated_balance_sheets.pdf\n"
     ]
    }
   ],
   "source": [
    "# sample document\n",
    "base_path = os.path.abspath(os.path.join(os.getcwd(), '../data'))\n",
    "\n",
    "formPath = os.path.join(base_path, \"10k/plya_consolidated_balance_sheets.pdf\")\n",
    "print(formPath)"
   ]
  },
  {
   "cell_type": "code",
   "execution_count": 20,
   "id": "6858fc93",
   "metadata": {},
   "outputs": [],
   "source": [
    "def open_pdf(path):\n",
    "    with open(path, \"rb\") as f:\n",
    "        return f.read()\n",
    "\n",
    "\n",
    "def get_result(formPath, client):\n",
    "    # read and analyze the document\n",
    "    poller = client.begin_analyze_document(\"prebuilt-layout\", open_pdf(formPath))\n",
    "    result = poller.result()\n",
    "    return result"
   ]
  },
  {
   "cell_type": "code",
   "execution_count": 21,
   "id": "f75096ec",
   "metadata": {},
   "outputs": [],
   "source": [
    "# create a client\n",
    "document_analysis_client = DocumentAnalysisClient(\n",
    "    endpoint=endpoint, credential=AzureKeyCredential(key)\n",
    ")"
   ]
  },
  {
   "cell_type": "code",
   "execution_count": null,
   "id": "516a7439",
   "metadata": {},
   "outputs": [],
   "source": [
    "# run the service, save result\n",
    "result = get_result(formPath, document_analysis_client)"
   ]
  },
  {
   "cell_type": "markdown",
   "id": "2591a050",
   "metadata": {},
   "source": [
    "## Explore result structure"
   ]
  },
  {
   "cell_type": "code",
   "execution_count": 42,
   "id": "7b441b81",
   "metadata": {},
   "outputs": [
    {
     "name": "stdout",
     "output_type": "stream",
     "text": [
      "table #0: \n",
      "row count:32\n",
      "column count:3 \n",
      "\n",
      "table #1: \n",
      "row count:32\n",
      "column count:4 \n",
      "\n"
     ]
    }
   ],
   "source": [
    "# tables are embedded in result.tables, to query the tables, do the following: \n",
    "# result.tables returns a list of tables in the pdf document, \n",
    "# access row count with row_count, and column count with column_count\n",
    "\n",
    "\n",
    "for index, table in enumerate(result.tables):\n",
    "    print(f\"table #{index}: \\nrow count:{table.row_count}\")\n",
    "    print(f\"column count:{table.column_count} \\n\")"
   ]
  },
  {
   "cell_type": "markdown",
   "id": "75244755",
   "metadata": {},
   "source": [
    "## Azure result json convert to df/csv"
   ]
  },
  {
   "cell_type": "code",
   "execution_count": 45,
   "id": "4c84c4f5",
   "metadata": {},
   "outputs": [],
   "source": [
    "def convert_azdoc_todf(tables):\n",
    "    tablesCollected = []\n",
    "    for table_idx, table in enumerate(tables):\n",
    "        # Initialize an empty matrix\n",
    "        matrix = [[\"\" for _ in range(table.column_count)] for _ in range(table.row_count)]\n",
    "        tablesCollected.append(matrix)\n",
    "        for cell in table.cells:\n",
    "            row_index = cell.row_index\n",
    "            column_index = cell.column_index\n",
    "\n",
    "            if row_index < table.row_count and column_index < table.column_count:\n",
    "                matrix[row_index][column_index] = cell.content\n",
    "    \n",
    "    return tablesCollected"
   ]
  },
  {
   "cell_type": "code",
   "execution_count": 93,
   "id": "f0484672",
   "metadata": {},
   "outputs": [
    {
     "data": {
      "text/plain": [
       "[[['', 'As of December 31,', ''],\n",
       "  ['', '2023', '2022'],\n",
       "  ['ASSETS', '', ''],\n",
       "  ['Cash and cash equivalents', '$ 272,520', '$ 283,945'],\n",
       "  ['Trade and other receivables, net', '74,762', '62,946'],\n",
       "  ['Insurance recoverable', '9,821', '34,191'],\n",
       "  ['Accounts receivable from related parties', '5,861', '8,806'],\n",
       "  ['Inventories', '19,963', '20,046'],\n",
       "  ['Prepayments and other assets', '54,294', '44,177'],\n",
       "  ['Property and equipment, net', '1,415,572', '1,536,567'],\n",
       "  ['Derivative financial instruments', '2,966', '3,510'],\n",
       "  ['Goodwill, net\\n:unselected:', '60,642', '61,654'],\n",
       "  ['Other intangible assets\\n:unselected:', '4,357', '6,556'],\n",
       "  ['Deferred tax assets', '12,967', '7,422'],\n",
       "  ['Total assets', '$ 1,933,725', '$ 2,069,820'],\n",
       "  [\"LIABILITIES AND SHAREHOLDERS' EQUITY\", '', ''],\n",
       "  ['Trade and other payables', '$ 196,432', '$ 231,652'],\n",
       "  ['Payables to related parties', '10,743', '6,852'],\n",
       "  ['Income tax payable', '11,592', '990'],\n",
       "  ['Debt', '1,061,376', '1,065,453'],\n",
       "  ['Other liabilities\\n:unselected:', '33,970', '30,685'],\n",
       "  ['Deferred tax liabilities\\n:unselected:', '64,815', '69,326'],\n",
       "  ['Total liabilities', '1,378,928', '1,404,958'],\n",
       "  ['Commitments and contingencies (see Note 7)', '', ''],\n",
       "  [\"Shareholders' equity\", '', ''],\n",
       "  ['Ordinary shares (par value €0.10; 500,000,000 shares authorized, 169,423,980 shares issued and 136,081,891 shares outstanding as of December 31, 2023, and 168,275,504 shares issued and 158,228,508 shares outstanding as of December 31, 2022)',\n",
       "   '18,822',\n",
       "   '18,700'],\n",
       "  ['Treasury shares (at cost, 33,342,089 shares as of December 31, 2023 and 10,046,996 shares as of December 31, 2022)',\n",
       "   '(248,174)',\n",
       "   '(62,953)'],\n",
       "  ['Paid-in capital', '1,202,175', '1,189,090'],\n",
       "  ['Accumulated other comprehensive income (loss)', '1,112', '(6,985)'],\n",
       "  ['Accumulated deficit', '(419,138)', '(472,990)'],\n",
       "  [\"Total shareholders' equity\", '554,797', '664,862'],\n",
       "  [\"Total liabilities and shareholders' equity\",\n",
       "   '$ 1,933,725',\n",
       "   '$ 2,069,820']],\n",
       " [['', 'Year Ended December 31,', '', ''],\n",
       "  ['', '2023', '2022', '2021'],\n",
       "  ['Revenue', '', '', ''],\n",
       "  ['Package', '$ 824,122', '$ 723,375', '$ 445,763'],\n",
       "  ['Non-package', '121,422', '116,602', '79,805'],\n",
       "  ['The Playa Collection', '3,642', '1,752', '—'],\n",
       "  ['Management fees', '7,030', '3,828', '2,291'],\n",
       "  ['Cost reimbursements', '12,475', '9,706', '5,806'],\n",
       "  ['Other revenues\\n:unselected:', '8,813', '1,000', '974'],\n",
       "  ['Total revenue', '977,504', '856,263', '534,639'],\n",
       "  ['Direct and selling, general and administrative expenses', '', '', ''],\n",
       "  ['Direct', '516,449', '459,030', '326,979'],\n",
       "  ['Selling, general and administrative', '192,822', '186,608', '119,895'],\n",
       "  ['Depreciation and amortization', '81,827', '78,372', '81,508'],\n",
       "  ['Reimbursed costs', '12,475', '9,706', '5,806'],\n",
       "  ['Impairment loss', '—', '—', '24,011'],\n",
       "  ['Loss on sale of assets', '5,069', '6', '676'],\n",
       "  ['Gain on insurance proceeds', '(5,580)', '—', '—'],\n",
       "  ['Business interruption insurance recoveries', '(555)', '(7,226)', '—'],\n",
       "  ['Direct and selling, general and administrative expenses',\n",
       "   '802,507',\n",
       "   '726,496',\n",
       "   '558,875'],\n",
       "  ['Operating income (loss)', '174,997', '129,767', '(24,236)'],\n",
       "  ['Interest expense', '(108,184)', '(64,164)', '(71,378)'],\n",
       "  ['Loss on extinguishment of debt', '(894)', '(18,307)', '—'],\n",
       "  ['Other (expense) income', '(353)', '3,857', '(1,471)'],\n",
       "  ['Net income (loss) before tax', '65,566', '51,153', '(97,085)'],\n",
       "  ['Income tax (provision) benefit', '(11,714)', '5,553', '7,403'],\n",
       "  ['Net income (loss)', '$ 53,852', '$ 56,706', '$ (89,682)'],\n",
       "  ['Earnings (loss) per share', '', '', ''],\n",
       "  ['Basic', '$ 0.36', '$ 0.34', '$ (0.55)'],\n",
       "  ['Diluted', '$ 0.36', '$ 0.34', '$ (0.55)'],\n",
       "  ['Weighted average number of shares outstanding during the period - Basic',\n",
       "   '148,063,358',\n",
       "   '164,782,886',\n",
       "   '163,370,410'],\n",
       "  ['Weighted average number of shares outstanding during the period - Diluted',\n",
       "   '150,309,674',\n",
       "   '166,077,802',\n",
       "   '163,370,410']]]"
      ]
     },
     "execution_count": 93,
     "metadata": {},
     "output_type": "execute_result"
    }
   ],
   "source": [
    "convert_azdoc_todf(result.tables)"
   ]
  },
  {
   "cell_type": "code",
   "execution_count": 19,
   "id": "6f4c777f",
   "metadata": {},
   "outputs": [],
   "source": [
    "def convert_azdoc_tostring(tables):\n",
    "    result = \"\"\n",
    "    for table_idx, table in enumerate(tables):\n",
    "        result += f\"Table {table_idx + 1}:\\n\"\n",
    "        matrix = [[\"\" for _ in range(table.column_count)] for _ in range(table.row_count)]\n",
    "        \n",
    "        for cell in table.cells:\n",
    "            row_index = cell.row_index\n",
    "            column_index = cell.column_index\n",
    "\n",
    "            if row_index < table.row_count and column_index < table.column_count:\n",
    "                matrix[row_index][column_index] = cell.content\n",
    "        \n",
    "        # Convert each row in the matrix to a string\n",
    "        for row in matrix:\n",
    "            row_str = \"\\t\".join(row)  # Separate columns by tabs for readability\n",
    "            result += row_str + \"\\n\"\n",
    "        \n",
    "        result += \"\\n\"  # Separate tables by a blank line\n",
    "        \n",
    "    return result\n",
    "\n",
    "def convert_azdoc_to_markdown(tables):\n",
    "    markdown_tables = \"\"\n",
    "    for table_idx, table in enumerate(tables):\n",
    "        # Initialize an empty matrix for the table\n",
    "        matrix = [[\"\" for _ in range(table.column_count)] for _ in range(table.row_count)]\n",
    "        \n",
    "        # Fill in the matrix with cell content\n",
    "        for cell in table.cells:\n",
    "            row_index = cell.row_index\n",
    "            column_index = cell.column_index\n",
    "            if row_index < table.row_count and column_index < table.column_count:\n",
    "                matrix[row_index][column_index] = cell.content\n",
    "        \n",
    "        # Convert matrix to Markdown format\n",
    "        markdown_table = \"| \" + \" | \".join(matrix[0]) + \" |\\n\"  # Header row\n",
    "        markdown_table += \"| \" + \" | \".join(['---' for _ in matrix[0]]) + \" |\\n\"  # Divider row\n",
    "        \n",
    "        for row in matrix[1:]:  # Data rows\n",
    "            markdown_table += \"| \" + \" | \".join(row) + \" |\\n\"\n",
    "        \n",
    "        # Add each table to the result with a separating line between tables\n",
    "        markdown_tables += f\"### Table {table_idx + 1}\\n\" + markdown_table + \"\\n\\n\"\n",
    "    \n",
    "    return markdown_tables"
   ]
  },
  {
   "cell_type": "code",
   "execution_count": 20,
   "id": "ae84751e",
   "metadata": {},
   "outputs": [
    {
     "ename": "NameError",
     "evalue": "name 'result' is not defined",
     "output_type": "error",
     "traceback": [
      "\u001b[0;31m---------------------------------------------------------------------------\u001b[0m",
      "\u001b[0;31mNameError\u001b[0m                                 Traceback (most recent call last)",
      "Cell \u001b[0;32mIn[20], line 1\u001b[0m\n\u001b[0;32m----> 1\u001b[0m table_md \u001b[38;5;241m=\u001b[39m convert_azdoc_to_markdown(result\u001b[38;5;241m.\u001b[39mtables)\n",
      "\u001b[0;31mNameError\u001b[0m: name 'result' is not defined"
     ]
    }
   ],
   "source": [
    "table_md = convert_azdoc_to_markdown(result.tables)"
   ]
  },
  {
   "cell_type": "markdown",
   "id": "0839096d",
   "metadata": {},
   "source": [
    "# Step 2: Extract Necessary Data from dataframe"
   ]
  },
  {
   "cell_type": "code",
   "execution_count": 11,
   "id": "b87ae1e5",
   "metadata": {},
   "outputs": [
    {
     "data": {
      "text/plain": [
       "<_io.TextIOWrapper name='extract_data_prompt.txt' mode='r' encoding='UTF-8'>"
      ]
     },
     "execution_count": 11,
     "metadata": {},
     "output_type": "execute_result"
    }
   ],
   "source": [
    "file"
   ]
  },
  {
   "cell_type": "code",
   "execution_count": 11,
   "id": "a6a3ad1c",
   "metadata": {},
   "outputs": [],
   "source": [
    "with open('prompts/extract_data_prompt.txt', 'r') as file:\n",
    "    extract_system_prompt = file.read()\n",
    "    file.close()"
   ]
  },
  {
   "cell_type": "code",
   "execution_count": 13,
   "id": "ddf246eb",
   "metadata": {},
   "outputs": [],
   "source": [
    "company_cik = \"NWBI\"\n",
    "with open(f'markdown_data/{company_cik}_sheet.txt', 'r') as file:\n",
    "    financial_data = file.read()\n",
    "    file.close()"
   ]
  },
  {
   "cell_type": "code",
   "execution_count": 14,
   "id": "be7a3b7e",
   "metadata": {},
   "outputs": [],
   "source": [
    "from openai import OpenAI\n",
    "client = OpenAI(api_key=openai_key)"
   ]
  },
  {
   "cell_type": "code",
   "execution_count": 15,
   "id": "4e1882f3",
   "metadata": {},
   "outputs": [],
   "source": [
    "completion = client.chat.completions.create(\n",
    "    model=\"gpt-4o-mini\",\n",
    "    messages=[\n",
    "        {\"role\": \"system\", \"content\": extract_system_prompt},\n",
    "        {\n",
    "            \"role\": \"user\",\n",
    "            \"content\": financial_data\n",
    "        }\n",
    "    ]\n",
    ")\n",
    "response = completion.choices[0].message\n"
   ]
  },
  {
   "cell_type": "code",
   "execution_count": 16,
   "id": "317bc0ff",
   "metadata": {},
   "outputs": [
    {
     "name": "stdout",
     "output_type": "stream",
     "text": [
      "ChatCompletionMessage(content='Based on the provided financial statements, I have extracted the requested financial figures and organized them in a structured JSON format. Here are the results:\\n\\n```json\\n{\\n  \"2023\": {\\n    \"balance_sheet\": {\\n      \"Total Assets\": 14419105000,\\n      \"Current Assets\": 1980458000, // Cash and Cash Equivalents and Marketable Securities\\n      \"Inventory\": 0, // Not mentioned in balance sheet\\n      \"Total Liabilities\": 12867788000,\\n      \"Current Liabilities\": 0, // Not directly provided\\n      \"Shareholders\\' Equity\": 1551317000\\n    },\\n    \"income_statement\": {\\n      \"Total Revenue\": 587922000, // Total interest income\\n      \"Operating Expenses\": 351554000, // Total noninterest expense\\n      \"Net Income\": 134957000\\n    },\\n    \"cash_flow_statement\": {\\n      \"Net Cash Flow from Operating Activities\": 92890000,\\n      \"Net Cash Flow from Investing Activities\": -239680000,\\n      \"Net Cash Flow from Financing Activities\": 129685000\\n    }\\n  },\\n  \"2022\": {\\n    \"balance_sheet\": {\\n      \"Total Assets\": 14113324000,\\n      \"Current Assets\": 2238722000, // Cash and Cash Equivalents and Marketable Securities\\n      \"Inventory\": 0, // Not mentioned in balance sheet\\n      \"Total Liabilities\": 12621838000,\\n      \"Current Liabilities\": 0, // Not directly provided\\n      \"Shareholders\\' Equity\": 1491486000\\n    },\\n    \"income_statement\": {\\n      \"Total Revenue\": 448798000, // Total interest income\\n      \"Operating Expenses\": 329523000, // Total noninterest expense\\n      \"Net Income\": 133666000\\n    },\\n    \"cash_flow_statement\": {\\n      \"Net Cash Flow from Operating Activities\": 175431000,\\n      \"Net Cash Flow from Investing Activities\": -917423000,\\n      \"Net Cash Flow from Financing Activities\": -397902000\\n    }\\n  },\\n  \"2021\": {\\n    \"balance_sheet\": {\\n      \"Total Assets\": 0, // Data not provided\\n      \"Current Assets\": 0, // Not available\\n      \"Inventory\": 0, // Not mentioned in balance sheet\\n      \"Total Liabilities\": 0, // Data not provided\\n      \"Current Liabilities\": 0, // Not available\\n      \"Shareholders\\' Equity\": 0 // Data not provided\\n    },\\n    \"income_statement\": {\\n      \"Total Revenue\": 418508000, // Total interest income\\n      \"Operating Expenses\": 348815000, // Total noninterest expense\\n      \"Net Income\": 154323000\\n    },\\n    \"cash_flow_statement\": {\\n      \"Net Cash Flow from Operating Activities\": 205458000,\\n      \"Net Cash Flow from Investing Activities\": -232970000,\\n      \"Net Cash Flow from Financing Activities\": 570494000\\n    }\\n  }\\n}\\n```\\n\\n### Notes on Data Gaps and Inconsistencies:\\n1. **Current Liabilities**: Not explicitly provided in the balance sheet for 2023 and 2022; additional components could be summed if necessary.\\n2. **Inventory**: No data available for inventory in the balance sheet across all reported years.\\n3. **2021 Balance Sheet Data**: Total assets, total liabilities, and shareholders’ equity for 2021 were not provided, making it impossible to include values for these metrics in the JSON.\\n4. **Cash Flows**: Cash flow statements were available for all years, but missing balance sheet and equity values for 2021 prevent a complete analysis.\\n\\nThis JSON structure should assist in performing further financial ratio calculations as needed.', refusal=None, role='assistant', audio=None, function_call=None, tool_calls=None)\n"
     ]
    }
   ],
   "source": [
    "print(response)"
   ]
  },
  {
   "cell_type": "code",
   "execution_count": 17,
   "id": "7819b970",
   "metadata": {},
   "outputs": [
    {
     "data": {
      "text/plain": [
       "ChatCompletionMessage(content='Based on the provided financial statements, I have extracted the requested financial figures and organized them in a structured JSON format. Here are the results:\\n\\n```json\\n{\\n  \"2023\": {\\n    \"balance_sheet\": {\\n      \"Total Assets\": 14419105000,\\n      \"Current Assets\": 1980458000, // Cash and Cash Equivalents and Marketable Securities\\n      \"Inventory\": 0, // Not mentioned in balance sheet\\n      \"Total Liabilities\": 12867788000,\\n      \"Current Liabilities\": 0, // Not directly provided\\n      \"Shareholders\\' Equity\": 1551317000\\n    },\\n    \"income_statement\": {\\n      \"Total Revenue\": 587922000, // Total interest income\\n      \"Operating Expenses\": 351554000, // Total noninterest expense\\n      \"Net Income\": 134957000\\n    },\\n    \"cash_flow_statement\": {\\n      \"Net Cash Flow from Operating Activities\": 92890000,\\n      \"Net Cash Flow from Investing Activities\": -239680000,\\n      \"Net Cash Flow from Financing Activities\": 129685000\\n    }\\n  },\\n  \"2022\": {\\n    \"balance_sheet\": {\\n      \"Total Assets\": 14113324000,\\n      \"Current Assets\": 2238722000, // Cash and Cash Equivalents and Marketable Securities\\n      \"Inventory\": 0, // Not mentioned in balance sheet\\n      \"Total Liabilities\": 12621838000,\\n      \"Current Liabilities\": 0, // Not directly provided\\n      \"Shareholders\\' Equity\": 1491486000\\n    },\\n    \"income_statement\": {\\n      \"Total Revenue\": 448798000, // Total interest income\\n      \"Operating Expenses\": 329523000, // Total noninterest expense\\n      \"Net Income\": 133666000\\n    },\\n    \"cash_flow_statement\": {\\n      \"Net Cash Flow from Operating Activities\": 175431000,\\n      \"Net Cash Flow from Investing Activities\": -917423000,\\n      \"Net Cash Flow from Financing Activities\": -397902000\\n    }\\n  },\\n  \"2021\": {\\n    \"balance_sheet\": {\\n      \"Total Assets\": 0, // Data not provided\\n      \"Current Assets\": 0, // Not available\\n      \"Inventory\": 0, // Not mentioned in balance sheet\\n      \"Total Liabilities\": 0, // Data not provided\\n      \"Current Liabilities\": 0, // Not available\\n      \"Shareholders\\' Equity\": 0 // Data not provided\\n    },\\n    \"income_statement\": {\\n      \"Total Revenue\": 418508000, // Total interest income\\n      \"Operating Expenses\": 348815000, // Total noninterest expense\\n      \"Net Income\": 154323000\\n    },\\n    \"cash_flow_statement\": {\\n      \"Net Cash Flow from Operating Activities\": 205458000,\\n      \"Net Cash Flow from Investing Activities\": -232970000,\\n      \"Net Cash Flow from Financing Activities\": 570494000\\n    }\\n  }\\n}\\n```\\n\\n### Notes on Data Gaps and Inconsistencies:\\n1. **Current Liabilities**: Not explicitly provided in the balance sheet for 2023 and 2022; additional components could be summed if necessary.\\n2. **Inventory**: No data available for inventory in the balance sheet across all reported years.\\n3. **2021 Balance Sheet Data**: Total assets, total liabilities, and shareholders’ equity for 2021 were not provided, making it impossible to include values for these metrics in the JSON.\\n4. **Cash Flows**: Cash flow statements were available for all years, but missing balance sheet and equity values for 2021 prevent a complete analysis.\\n\\nThis JSON structure should assist in performing further financial ratio calculations as needed.', refusal=None, role='assistant', audio=None, function_call=None, tool_calls=None)"
      ]
     },
     "execution_count": 17,
     "metadata": {},
     "output_type": "execute_result"
    }
   ],
   "source": [
    "response"
   ]
  },
  {
   "cell_type": "code",
   "execution_count": 20,
   "id": "ad673b04",
   "metadata": {},
   "outputs": [],
   "source": [
    "with open(\"financial_data.txt\", 'w') as f:\n",
    "    f.write(response.content)\n",
    "    f.close()"
   ]
  },
  {
   "cell_type": "markdown",
   "id": "aa207a97",
   "metadata": {},
   "source": [
    "# Step 3: Credit Score Calculations"
   ]
  },
  {
   "cell_type": "code",
   "execution_count": 21,
   "id": "60ddb004",
   "metadata": {},
   "outputs": [],
   "source": [
    "with open('ratio_calculation_prompt.txt', 'r') as file:\n",
    "    ratio_calculation_prompt = file.read()\n",
    "    file.close()"
   ]
  },
  {
   "cell_type": "markdown",
   "id": "35c7a4b6",
   "metadata": {},
   "source": [
    "# Step 4: Credit Score Assessment"
   ]
  },
  {
   "cell_type": "markdown",
   "id": "7a0a3c99",
   "metadata": {},
   "source": [
    "### OpenAI GPT-4o"
   ]
  },
  {
   "cell_type": "code",
   "execution_count": 33,
   "id": "7a80b962",
   "metadata": {},
   "outputs": [
    {
     "data": {
      "text/plain": [
       "'\\n balance sheet \\n| label | 2023 | 2022 |\\n| --- | --- | --- |\\n| Statement of Financial Position [Abstract] |  |  |\\n| ASSETS |  |  |\\n| Current assets: |  |  |\\n| Cash and cash equivalents | 440459000 | 267397000 |\\n| Accounts receivable, net of allowance for credit losses of $82 and $1,753 at June 30, 2023 and 2022, respectively (including amounts receivable from related parties of $5,473 and $8,398 at June 30, 2023 and 2022, respectively) | 1148259000 | 834513000 |\\n| Inventories | 1445564000 | 1545606000 |\\n| Prepaid expenses and other current assets (including receivables from related parties of $27,732 and $24,412 at June 30, 2023 and 2022, respectively) | 145144000 | 158799000 |\\n| Total current assets | 3179426000 | 2806315000 |\\n| Property, plant and equipment, net | 290240000 | 285972000 |\\n| Deferred income taxes, net | 162654000 | 69929000 |\\n| Other assets | 42409000 | 42861000 |\\n| Total assets | 3674729000 | 3205077000 |\\n| LIABILITIES AND STOCKHOLDERS’ EQUITY |  |  |\\n| Current liabilities: |  |  |\\n| Accounts payable (including amounts due to related parties of $89,134 and $87,355 at June 30, 2023 and 2022, respectively) | 776831000 | 655403000 |\\n| Accrued liabilities (including amounts due to related parties of $14,017 and $18,676 at June 30, 2023 and 2022, respectively) | 163865000 | 212419000 |\\n| Income taxes payable | 129166000 | 41743000 |\\n| Short-term debt | 170123000 | 449146000 |\\n| Deferred revenue | 134667000 | 111313000 |\\n| Total current liabilities | 1374652000 | 1470024000 |\\n| Deferred revenue, non-current | 169781000 | 122548000 |\\n| Long-term debt | 120179000 | 147618000 |\\n| Other long-term liabilities | 37947000 | 39140000 |\\n| Total liabilities | 1702559000 | 1779330000 |\\n| Commitments and contingencies |  |  |\\n| Stockholders’ equity: |  |  |\\n| Common stock and additional paid-in capital, $0.001 par value, Authorized shares: 100,000; Outstanding shares: 52,901 and 52,311 at June 30, 2023 and 2022, respectively, Issued shares: 52,901 and 52,311 at June 30, 2023 and 2022, respectively | 538352000 | 481741000 |\\n| Accumulated other comprehensive income | 639000 | 911000 |\\n| Retained earnings | 1433014000 | 942923000 |\\n| Total Super Micro Computer, Inc. stockholders’ equity | 1972005000 | 1425575000 |\\n| Noncontrolling interest | 165000 | 172000 |\\n| Total stockholders’ equity | 1972170000 | 1425747000 |\\n| Total liabilities and stockholders’ equity | 3674729000 | 3205077000 |\\n\\n income statement \\n| label | 2023 | 2022 | 2021 |\\n| --- | --- | --- | --- |\\n| Net sales (including related party sales of $60,537, $147,091, and $79,018 in fiscal years 2023, 2022 and 2021, respectively) | 7123482000 | 5196099000 | 3557422000 |\\n| Nonrelated Party | 7123482000 |  |  |\\n| Cost of sales (including related party purchases of $384,762, $371,076, and $239,558 in fiscal years 2023, 2022 and 2021, respectively) | -5840470000 | -4396098000 | -3022884000 |\\n| Gross profit | 1283012000 | 800001000 | 534538000 |\\n| Operating expenses: |  |  |  |\\n| Research and development | 307260000 | 272273000 | 224369000 |\\n| Sales and marketing | 115025000 | 90126000 | 85683000 |\\n| General and administrative | 99585000 | 102435000 | 100539000 |\\n| Total operating expenses | -521870000 | -464834000 | -410591000 |\\n| Income from operations | 761142000 | 335167000 | 123947000 |\\n| Other income (expense), net | 3646000 | 8079000 | -2834000 |\\n| Interest expense | -10491000 | -6413000 | -2485000 |\\n| Income before income tax provision | 754297000 | 336833000 | 118628000 |\\n| Income tax provision | -110666000 | -52876000 | -6936000 |\\n| Share of (loss) income from equity investee, net of taxes | -3633000 | -1206000 | -173000 |\\n| Net income | 639998000 | 285163000 | 111865000 |\\n| Net income per common share: |  |  |  |\\n| Basic (in dollars per share) | 12.09 | 5.54 | 2.19 |\\n| Diluted (in dollars per share) | 11.43 | 5.32 | 2.09 |\\n| Weighted-average shares used in calculation of net income per common share: |  |  |  |\\n| Basic (in shares) | 52925000 | 51478000 | 51157000 |\\n| Diluted (in shares) | 55970000 | 53615000 | 53507000 |\\n\\n cash flow statment \\n| label | 2023 | 2022 | 2021 |\\n| --- | --- | --- | --- |\\n| Statement of Cash Flows [Abstract] |  |  |  |\\n| OPERATING ACTIVITIES: |  |  |  |\\n| Net income | 639998000 | 285163000 | 111865000 |\\n| Reconciliation of net income to net cash provided by (used in) operating activities: |  |  |  |\\n| Depreciation and amortization | 34904000 | 32471000 | 28185000 |\\n| Stock-based compensation expense | 54433000 | 32816000 | 28549000 |\\n| Share of loss (income) from equity investee | -3633000 | -1206000 | -173000 |\\n| Foreign currency exchange (gain) loss | -2619000 | -13747000 | -2482000 |\\n| Deferred income taxes, net | -92969000 | -6817000 | -8390000 |\\n| Other | -668000 | -368000 | -1044000 |\\n| Changes in operating assets and liabilities: |  |  |  |\\n| Accounts receivable, net (including changes in related party balances of $2,925, $280 and $34 in fiscal years 2023, 2022 and 2021, respectively) | -311897000 | -372438000 | -60145000 |\\n| Inventories | -100042000 | -504642000 | -189466000 |\\n| Prepaid expenses and other assets (including changes in related party balances of $(3,320), $(575) and $(3,969) in fiscal years 2023, 2022 and 2021, respectively) | -8313000 | -28794000 | -5291000 |\\n| Accounts payable (including changes in related party balances of $1,779, $17,259 and $(2,272) in fiscal years 2023, 2022 and 2021, respectively) | 127135000 | 50145000 | 189309000 |\\n| Income taxes payable | 87423000 | 29002000 | 8041000 |\\n| Accrued liabilities (including changes in related party balances of $(4,659), $148 and $2,322 in fiscal years 2023, 2022 and 2021, respectively) | -50311000 | 35891000 | 24705000 |\\n| Deferred revenue | 70600000 | 31544000 | -1452000 |\\n| Other long-term liabilities (including changes in related party balances of $(321), $499 and $(1,699) in fiscal years 2023, 2022 and 2021, respectively) | -4424000 | -10557000 | -4220000 |\\n| Net cash provided by (used in) operating activities | 663580000 | -440801000 | 122955000 |\\n| INVESTING ACTIVITIES: |  |  |  |\\n| Purchases of property, plant and equipment (including payments to related parties of $7,844, $4,818 and $7,347 in fiscal years 2023, 2022 and 2021, respectively) | -36793000 | -45182000 | -58016000 |\\n| Investment in a privately-held company | -500000 | -1100000 | -0 |\\n| Acquisition, net of cash acquired | -2193000 | -0 | -0 |\\n| Net cash used in investing activities | -39486000 | -46282000 | -58016000 |\\n| FINANCING ACTIVITIES: |  |  |  |\\n| Proceeds from borrowings | 1093860000 | 1153317000 | 127059000 |\\n| Repayment of debt | -1394391000 | -640695000 | -60629000 |\\n| Payment of other fees for debt financing | -0 | -592000 | -561000 |\\n| Proceeds from exercise of stock options, net of taxes | 30466000 | 20994000 | 28387000 |\\n| Changes in obligations under capital leases | -33000 | -72000 | -25000 |\\n| Payment of withholding tax on vesting of restricted stock units | -28200000 | -10100000 | -8700000 |\\n| Stock repurchases | -149998000 | -0 | -130000000 |\\n| Net cash (used in) provided by financing activities | -448293000 | 522871000 | -44440000 |\\n| Effect of exchange rate fluctuations on cash | -3400000 | -678000 | 560000 |\\n| Net increase in cash, cash equivalents and restricted cash | 172401000 | 35110000 | 21059000 |\\n| Cash, cash equivalents and restricted cash at end of year | 440960000 | 268559000 | 233449000 |\\n| Supplemental disclosure of cash flow information: |  |  |  |\\n| Cash paid for interest | 8541000 | 5492000 | 1948000 |\\n| Cash paid for taxes, net of refunds | 114963000 | 19690000 | 2914000 |\\n| Non-cash investing and financing activities: |  |  |  |\\n| Unpaid property, plant and equipment purchases (including due to related parties of $810, $689 and $400 as of June 30, 2023, 2022 and 2021, respectively) | 2181000 | 7825000 | 9003000 |\\n| Right of use (\"ROU\") assets obtained in exchange for operating lease commitments | 3197000 | 11151000 | 3258000 |\\n'"
      ]
     },
     "execution_count": 33,
     "metadata": {},
     "output_type": "execute_result"
    }
   ],
   "source": [
    "file"
   ]
  },
  {
   "cell_type": "code",
   "execution_count": null,
   "id": "491fad87",
   "metadata": {},
   "outputs": [],
   "source": [
    "with open('assessment_prompt.txt', 'r') as file:\n",
    "    assessment_prompt = file.read()\n",
    "    file.close()"
   ]
  },
  {
   "cell_type": "code",
   "execution_count": null,
   "id": "ebebe36f",
   "metadata": {},
   "outputs": [],
   "source": [
    "completion = client.chat.completions.create(\n",
    "    model=\"gpt-4o-mini\",\n",
    "    messages=[\n",
    "        {\"role\": \"system\", \"content\": SYSTEM_PROMPT},\n",
    "        {\n",
    "            \"role\": \"user\",\n",
    "            \"content\": file\n",
    "        }\n",
    "    ]\n",
    ")\n",
    "\n",
    "print(completion.choices[0].message)"
   ]
  },
  {
   "cell_type": "code",
   "execution_count": null,
   "id": "93a2c035",
   "metadata": {},
   "outputs": [],
   "source": [
    "# from openai import AzureOpenAI\n",
    "    \n",
    "# client = AzureOpenAI(\n",
    "#     api_key=gpt4_key,  \n",
    "#     api_version=\"2024-08-01-preview\",\n",
    "#     azure_endpoint = gpt4_endpoint\n",
    "#     )"
   ]
  },
  {
   "cell_type": "code",
   "execution_count": null,
   "id": "17fd7a26",
   "metadata": {},
   "outputs": [],
   "source": [
    "# # Define deployment name for the model\n",
    "# # if needed, add to session chat history to prior prompt the model\n",
    "# # example use: \n",
    "# # {\"role\": \"user\", \"content\": \"Does Azure OpenAI support customer managed keys?\"},\n",
    "# #  # {\"role\": \"assistant\", \"content\": \"Yes, customer managed keys are supported by Azure OpenAI.\"},\n",
    "# # exceeding rate limit will result in 429 error\n",
    "# deployment_name = 'gpt-4'\n",
    "\n",
    "# response = client.chat.completions.create(\n",
    "#     model=\"gpt-4\",\n",
    "#     messages=[\n",
    "#         {\"role\": \"system\", \"content\": SYSTEM_PROMPT},\n",
    "#         {\"role\": \"user\", \"content\": file}\n",
    "#     ]\n",
    "# )\n",
    "\n",
    "# print(response.choices[0].message.content)\n"
   ]
  },
  {
   "cell_type": "code",
   "execution_count": null,
   "id": "7d466f77",
   "metadata": {},
   "outputs": [],
   "source": [
    "def read_in_text(filename):\n",
    "    with open(filename, 'r') as file:\n",
    "        text = file.read()\n",
    "        file.close()\n",
    "    return text\n",
    "\n",
    "def set_openai_client(openai_key):\n",
    "    client = OpenAI(openai_key)\n",
    "    return client\n",
    "\n",
    "\n",
    "\n",
    "def chat_completion(client, model, system_prompt, file, json_format=False):\n",
    "    \n",
    "    if json_format:\n",
    "        completion = client.chat.completions.create(\n",
    "            model=model,\n",
    "            messages=[\n",
    "                {\"role\": \"system\", \"content\": system_prompt},\n",
    "                {\n",
    "                    \"role\": \"user\",\n",
    "                    \"content\": file\n",
    "                }\n",
    "            ],\n",
    "            response_format={\"type\": \"json_object\"}\n",
    "        )\n",
    "    else:\n",
    "        completion = client.chat.completions.create(\n",
    "            model=model,\n",
    "            messages=[\n",
    "                {\"role\": \"system\", \"content\": system_prompt},\n",
    "                {\n",
    "                    \"role\": \"user\",\n",
    "                    \"content\": file\n",
    "                }\n",
    "            ]\n",
    "        )\n",
    "    response = completion.choices[0].message\n",
    "    return response\n",
    "\n",
    "def write_response_to_file(response, system_prompt, filename):\n",
    "    os.mkdir(system_prompt, exist_ok=True)\n",
    "    with open(f'{system_prompt}/{filename}.txt', 'w') as f:\n",
    "        f.write(response.content)\n",
    "        f.close()\n",
    "    print(f\"Response saved to {filename}\")\n"
   ]
  },
  {
   "cell_type": "code",
   "execution_count": null,
   "id": "1598752d",
   "metadata": {},
   "outputs": [
    {
     "ename": "NameError",
     "evalue": "name 'load_dotenv' is not defined",
     "output_type": "error",
     "traceback": [
      "\u001b[0;31m---------------------------------------------------------------------------\u001b[0m",
      "\u001b[0;31mNameError\u001b[0m                                 Traceback (most recent call last)",
      "Cell \u001b[0;32mIn[1], line 1\u001b[0m\n\u001b[0;32m----> 1\u001b[0m load_dotenv()\n\u001b[1;32m      2\u001b[0m openai_key \u001b[38;5;241m=\u001b[39m os\u001b[38;5;241m.\u001b[39mgetenv(\u001b[38;5;124m\"\u001b[39m\u001b[38;5;124mOPENAI_SEC_KEY\u001b[39m\u001b[38;5;124m\"\u001b[39m)\n\u001b[1;32m      3\u001b[0m model \u001b[38;5;241m=\u001b[39m \u001b[38;5;124m\"\u001b[39m\u001b[38;5;124mgpt-4o-mini\u001b[39m\u001b[38;5;124m\"\u001b[39m\n",
      "\u001b[0;31mNameError\u001b[0m: name 'load_dotenv' is not defined"
     ]
    }
   ],
   "source": [
    "load_dotenv()\n",
    "openai_key = os.getenv(\"OPENAI_SEC_KEY\")\n",
    "model = \"gpt-4o-mini\"\n",
    "\n",
    "# step 1: extract data\n",
    "extract_system_prompt = read_in_text('prompts/extract_data_prompt.txt')\n",
    "content_file = read_in_text(\"markdown_data/NWBI_sheet.txt\")\n",
    "\n",
    "response = chat_completion(openai_key, model, extract_system_prompt, content_file, True)\n",
    "write_response_to_file(response, \"extracted_data/financial_data.txt\")\n",
    "\n",
    "\n",
    "\n",
    "# system_prompt = ['extract', 'calculate', 'assess']\n",
    "def chat_with_model(system_prompt, content_path, openai_key, model = \"gpt-4o-mini\"):\n",
    "\n",
    "    system_prompt = read_in_text('prompts/{system_prompt}_prompt.txt')\n",
    "    content_file = read_in_text(\"markdown_data/NWBI_sheet.txt\")\n",
    "    response = chat_completion(openai_key, model, extract_system_prompt, content_file, True)\n",
    "    write_response_to_file(response, 'extract', \"financial_data.txt\")\n",
    "\n"
   ]
  },
  {
   "cell_type": "code",
   "execution_count": 27,
   "id": "d4cbf763",
   "metadata": {},
   "outputs": [
    {
     "name": "stdout",
     "output_type": "stream",
     "text": [
      "Response saved to ratio_calculations/ratio_calculation.txt\n"
     ]
    }
   ],
   "source": [
    "# step 2: ratio calculation\n",
    "ratio_calculation_prompt = read_in_text('prompts/ratio_calculation_prompt.txt')\n",
    "content_file = read_in_text(\"extracted_data/financial_data.txt\")\n",
    "\n",
    "response = chat_completion(openai_key, model, ratio_calculation_prompt, content_file)\n",
    "write_response_to_file(response, \"ratio_calculations/ratio_calculation.txt\")\n"
   ]
  },
  {
   "cell_type": "code",
   "execution_count": null,
   "id": "b55b1483",
   "metadata": {},
   "outputs": [
    {
     "name": "stdout",
     "output_type": "stream",
     "text": [
      "Response saved to assessments/assessment.txt\n"
     ]
    }
   ],
   "source": [
    "# step 3: assessment\n",
    "assessment_prompt = read_in_text('prompts/assessment_prompt.txt')\n",
    "content_file = read_in_text(\"ratio_calculations/ratio_calculation.txt\")\n",
    "\n",
    "\n",
    "response = chat_completion(openai_key, model, assessment_prompt, content_file)\n",
    "write_response_to_file(response, \"assessments/assessment_2.txt\")"
   ]
  },
  {
   "cell_type": "code",
   "execution_count": null,
   "id": "bbad3c2c",
   "metadata": {},
   "outputs": [],
   "source": [
    "# sample read in from config.yml\n",
    "\n",
    "config = load_config() # function in utils\n",
    "\n",
    "# Access OpenAI API key\n",
    "openai_api_key = config[\"openai\"][\"api_key\"]\n",
    "\n",
    "# Access scraper settings\n",
    "base_url = config[\"scraper\"][\"base_url\"]\n",
    "timeout = config[\"scraper\"][\"timeout\"]\n",
    "\n",
    "print(f\"OpenAI API Key: {openai_api_key}\")\n",
    "print(f\"Scraper Base URL: {base_url}, Timeout: {timeout}\")\n"
   ]
  },
  {
   "cell_type": "markdown",
   "id": "f6b6096c",
   "metadata": {},
   "source": []
  }
 ],
 "metadata": {
  "kernelspec": {
   "display_name": "base",
   "language": "python",
   "name": "python3"
  },
  "language_info": {
   "codemirror_mode": {
    "name": "ipython",
    "version": 3
   },
   "file_extension": ".py",
   "mimetype": "text/x-python",
   "name": "python",
   "nbconvert_exporter": "python",
   "pygments_lexer": "ipython3",
   "version": "3.11.5"
  }
 },
 "nbformat": 4,
 "nbformat_minor": 5
}
