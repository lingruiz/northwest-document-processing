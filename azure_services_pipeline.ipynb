{
 "cells": [
  {
   "cell_type": "code",
   "execution_count": 74,
   "id": "f7084d11",
   "metadata": {},
   "outputs": [],
   "source": [
    "# import libraries\n",
    "import os\n",
    "from azure.core.credentials import AzureKeyCredential\n",
    "from azure.ai.documentintelligence import DocumentIntelligenceClient\n",
    "from azure.ai.documentintelligence.models import AnalyzeResult\n",
    "from azure.ai.documentintelligence.models import AnalyzeDocumentRequest\n",
    "from dotenv import load_dotenv\n",
    "from azure.core.credentials import AzureKeyCredential\n",
    "from azure.ai.formrecognizer import DocumentAnalysisClient\n"
   ]
  },
  {
   "cell_type": "code",
   "execution_count": 83,
   "id": "5dfa5866",
   "metadata": {},
   "outputs": [],
   "source": [
    "# Load environment variables\n",
    "load_dotenv()\n",
    "\n",
    "# change this\n",
    "endpoint = os.getenv(\"AZURE_COGNITIVE_ENDPOINT\")\n",
    "key = os.getenv(\"AZURE_COGNITIVE_KEY\")\n",
    "gpt4_endpoint = os.getenv(\"OPENAI_ENDPOINT\")\n",
    "gpt4_key = os.getenv(\"OPENAI_KEY\")"
   ]
  },
  {
   "cell_type": "markdown",
   "id": "02c3d26f",
   "metadata": {},
   "source": [
    "# Step 1: Preprocessing Large 10K/10Q documents, get Balance Sheets\n",
    "\n",
    "Edgar Tool"
   ]
  },
  {
   "cell_type": "code",
   "execution_count": null,
   "id": "f40d50d8",
   "metadata": {},
   "outputs": [
    {
     "data": {
      "text/html": [
       "<pre style=\"white-space:pre;overflow-x:auto;line-height:normal;font-family:Menlo,'DejaVu Sans Mono',consolas,'Courier New',monospace\"><span style=\"color: #7fbfbf; text-decoration-color: #7fbfbf\">[15:48:37] </span><span style=\"color: #000080; text-decoration-color: #000080\">INFO    </span> Identity of the Edgar REST client set to <span style=\"font-weight: bold\">[</span>Jessie Zeng lingruiz@andrew.cmu.edu<span style=\"font-weight: bold\">]</span>      <a href=\"file:///Users/lingruiz/anaconda3/lib/python3.11/site-packages/edgar/core.py\" target=\"_blank\"><span style=\"color: #7f7f7f; text-decoration-color: #7f7f7f\">core.py</span></a><span style=\"color: #7f7f7f; text-decoration-color: #7f7f7f\">:</span><a href=\"file:///Users/lingruiz/anaconda3/lib/python3.11/site-packages/edgar/core.py#161\" target=\"_blank\"><span style=\"color: #7f7f7f; text-decoration-color: #7f7f7f\">161</span></a>\n",
       "</pre>\n"
      ],
      "text/plain": [
       "\u001b[2;36m[15:48:37]\u001b[0m\u001b[2;36m \u001b[0m\u001b[34mINFO    \u001b[0m Identity of the Edgar REST client set to \u001b[1m[\u001b[0mJessie Zeng lingruiz@andrew.cmu.edu\u001b[1m]\u001b[0m      \u001b]8;id=738249;file:///Users/lingruiz/anaconda3/lib/python3.11/site-packages/edgar/core.py\u001b\\\u001b[2mcore.py\u001b[0m\u001b]8;;\u001b\\\u001b[2m:\u001b[0m\u001b]8;id=719076;file:///Users/lingruiz/anaconda3/lib/python3.11/site-packages/edgar/core.py#161\u001b\\\u001b[2m161\u001b[0m\u001b]8;;\u001b\\\n"
      ]
     },
     "metadata": {},
     "output_type": "display_data"
    }
   ],
   "source": [
    "from edgar import *\n",
    "# Tell the SEC who you are\n",
    "set_identity(\"Jessie Zeng lingruiz@andrew.cmu.edu\")"
   ]
  },
  {
   "cell_type": "code",
   "execution_count": 13,
   "id": "9ee7422a",
   "metadata": {},
   "outputs": [],
   "source": [
    "def edgarTool_get_filing(ticker, form_type, num_filings):\n",
    "    # Get the latest 10-K filing for Apple\n",
    "    filing = Company(ticker).get_filings(form=form_type).latest(num_filings)\n",
    "    return filing"
   ]
  },
  {
   "cell_type": "code",
   "execution_count": 18,
   "id": "8f1ad135",
   "metadata": {},
   "outputs": [],
   "source": [
    "# get filing by looking up the ticker and form type\n",
    "filing = edgarTool_get_filing(\"PLYA\", \"10-K\", 1)"
   ]
  },
  {
   "cell_type": "code",
   "execution_count": 20,
   "id": "37c9efcb",
   "metadata": {},
   "outputs": [
    {
     "data": {
      "text/html": [
       "<pre style=\"white-space:pre;overflow-x:auto;line-height:normal;font-family:Menlo,'DejaVu Sans Mono',consolas,'Courier New',monospace\"></pre>\n"
      ],
      "text/plain": []
     },
     "metadata": {},
     "output_type": "display_data"
    },
    {
     "data": {
      "text/plain": [
       "                                            \u001b[1;38;5;38mPlaya Hotels & Resorts N.V.\u001b[0m                                            \n",
       "                                            \u001b[1mConsolidated Balance Sheets\u001b[0m                                            \n",
       "                                                                                                                   \n",
       " \u001b[1m \u001b[0m\u001b[1m                                                                         \u001b[0m\u001b[1m \u001b[0m \u001b[1m            \u001b[0m\u001b[1m \u001b[0m \u001b[1m      2023\u001b[0m\u001b[1m \u001b[0m \u001b[1m      2022\u001b[0m\u001b[1m \u001b[0m \n",
       " ───────────────────────────────────────────────────────────────────────────────────────────────────────────────── \n",
       "  \u001b[1;38;5;32mASSETS                                                                   \u001b[0m                                        \n",
       "  \u001b[2;38;5;250m  Cash and cash equivalents †                                            \u001b[0m  \u001b[2;38;5;249mthousands   \u001b[0m     272,520     283,945  \n",
       "  \u001b[2;38;5;250m  Trade and other receivables, net †                                     \u001b[0m  \u001b[2;38;5;249m            \u001b[0m                          \n",
       "  \u001b[2;38;5;250m    Related Party                                                        \u001b[0m  \u001b[2;38;5;249mthousands   \u001b[0m       5,861              \n",
       "  \u001b[2;38;5;250m    Nonrelated Party                                                     \u001b[0m  \u001b[2;38;5;249mthousands   \u001b[0m      74,762              \n",
       "                                                                                                                   \n",
       "  \u001b[2;38;5;250m  Insurance recoverable                                                  \u001b[0m  \u001b[2;38;5;249mthousands   \u001b[0m       9,821      34,191  \n",
       "  \u001b[2;38;5;250m  Inventories                                                            \u001b[0m  \u001b[2;38;5;249mthousands   \u001b[0m      19,963      20,046  \n",
       "  \u001b[2;38;5;250m  Prepayments and other assets †                                         \u001b[0m  \u001b[2;38;5;249mthousands   \u001b[0m      54,294      44,177  \n",
       "  \u001b[2;38;5;250m  Property and equipment, net                                            \u001b[0m  \u001b[2;38;5;249mthousands   \u001b[0m   1,415,572   1,536,567  \n",
       "  \u001b[2;38;5;250m  Derivative financial instruments †                                     \u001b[0m  \u001b[2;38;5;249mthousands   \u001b[0m       2,966       3,510  \n",
       "  \u001b[2;38;5;250m  Goodwill, net †                                                        \u001b[0m  \u001b[2;38;5;249mthousands   \u001b[0m      60,642      61,654  \n",
       "  \u001b[2;38;5;250m  Other intangible assets                                                \u001b[0m  \u001b[2;38;5;249mthousands   \u001b[0m       4,357       6,556  \n",
       "  \u001b[2;38;5;250m  Deferred tax assets                                                    \u001b[0m  \u001b[2;38;5;249mthousands   \u001b[0m      12,967       7,422  \n",
       "  \u001b[1;37m  Total assets †                                                         \u001b[0m  \u001b[2;38;5;249mthousands   \u001b[0m  \u001b[1m 1,933,725\u001b[0m  \u001b[1m 2,069,820\u001b[0m  \n",
       "                                                                                                                   \n",
       "  \u001b[1;38;5;32mLIABILITIES AND SHAREHOLDERS' EQUITY                                     \u001b[0m                                        \n",
       "  \u001b[2;38;5;250m  Trade and other payables †                                             \u001b[0m  \u001b[2;38;5;249m            \u001b[0m                          \n",
       "  \u001b[2;38;5;250m    Related Party                                                        \u001b[0m  \u001b[2;38;5;249mthousands   \u001b[0m       5,861              \n",
       "  \u001b[2;38;5;250m    Nonrelated Party                                                     \u001b[0m  \u001b[2;38;5;249mthousands   \u001b[0m      74,762              \n",
       "                                                                                                                   \n",
       "  \u001b[2;38;5;250m  Income tax payable                                                     \u001b[0m  \u001b[2;38;5;249mthousands   \u001b[0m      11,592         990  \n",
       "  \u001b[2;38;5;250m  Debt                                                                   \u001b[0m  \u001b[2;38;5;249mthousands   \u001b[0m   1,061,376   1,065,453  \n",
       "  \u001b[2;38;5;250m  Other liabilities                                                      \u001b[0m  \u001b[2;38;5;249mthousands   \u001b[0m      33,970      30,685  \n",
       "  \u001b[2;38;5;250m  Deferred tax liabilities                                               \u001b[0m  \u001b[2;38;5;249mthousands   \u001b[0m      64,815      69,326  \n",
       "  \u001b[1;37m  Total liabilities †                                                    \u001b[0m  \u001b[2;38;5;249mthousands   \u001b[0m  \u001b[1m 1,378,928\u001b[0m  \u001b[1m 1,404,958\u001b[0m  \n",
       "                                                                                                                   \n",
       "  \u001b[2;38;5;250m  Commitments and contingencies (see Note 7)                             \u001b[0m  \u001b[2;38;5;249m            \u001b[0m                          \n",
       "                                                                                                                   \n",
       "  \u001b[1;38;5;32m  Shareholders’ equity                                                   \u001b[0m                                        \n",
       "  \u001b[2;38;5;250m    Ordinary shares (par value €0.10; 500,000,000 shares authorized,     \u001b[0m  \u001b[2;38;5;249mthousands   \u001b[0m      18,822      18,700  \n",
       "  \u001b[2;38;5;250m169,423,980 shares issued and 136,081,891 shares outstanding as of       \u001b[0m                                        \n",
       "  \u001b[2;38;5;250mDecember 31, 2023, and 168,275,504 shares issued and 158,228,508 shares  \u001b[0m                                        \n",
       "  \u001b[2;38;5;250moutstanding as of December 31, 2022)                                     \u001b[0m                                        \n",
       "  \u001b[2;38;5;250m    Treasury shares (at cost, 33,342,089 shares as of December 31, 2023  \u001b[0m  \u001b[2;38;5;249mthousands   \u001b[0m    -248,174     -62,953  \n",
       "  \u001b[2;38;5;250mand 10,046,996 shares as of December 31, 2022)                           \u001b[0m                                        \n",
       "  \u001b[2;38;5;250m    Paid-in capital                                                      \u001b[0m  \u001b[2;38;5;249mthousands   \u001b[0m   1,202,175   1,189,090  \n",
       "  \u001b[2;38;5;250m    Accumulated other comprehensive income (loss)                        \u001b[0m  \u001b[2;38;5;249mthousands   \u001b[0m       1,112      -6,985  \n",
       "  \u001b[2;38;5;250m    Accumulated deficit                                                  \u001b[0m  \u001b[2;38;5;249mthousands   \u001b[0m    -419,138    -472,990  \n",
       "  \u001b[1;37m    Total shareholders’ equity †                                         \u001b[0m  \u001b[2;38;5;249mthousands   \u001b[0m  \u001b[1m   554,797\u001b[0m  \u001b[1m   664,862\u001b[0m  \n",
       "                                                                                                                   \n",
       "  \u001b[1;37m  Total liabilities and shareholders' equity †                           \u001b[0m  \u001b[2;38;5;249mthousands   \u001b[0m  \u001b[1m 1,933,725\u001b[0m  \u001b[1m 2,069,820\u001b[0m  \n",
       "                                                                                                                   \n",
       "                                                                                                                   \n",
       "\n",
       "\u001b[2;3m† Indicates items with dimensional breakdowns available\u001b[0m"
      ]
     },
     "execution_count": 20,
     "metadata": {},
     "output_type": "execute_result"
    }
   ],
   "source": [
    "from edgar.financials import Financials\n",
    "financials = Financials(filing.xbrl())\n",
    "financials.get_balance_sheet()\n",
    "# financials.get_income_statement()\n",
    "# financials.get_cash_flow_statement()"
   ]
  },
  {
   "cell_type": "code",
   "execution_count": null,
   "id": "b3029a3f",
   "metadata": {},
   "outputs": [
    {
     "data": {
      "text/html": [
       "<pre style=\"white-space:pre;overflow-x:auto;line-height:normal;font-family:Menlo,'DejaVu Sans Mono',consolas,'Courier New',monospace\"></pre>\n"
      ],
      "text/plain": []
     },
     "metadata": {},
     "output_type": "display_data"
    },
    {
     "data": {
      "text/plain": [
       "<bound method Financials.get_balance_sheet of ╭───────────────────────────────── \u001b[1;38;5;39mApple Inc.\u001b[0m financials\u001b[1;32m period ended 2023-09-30\u001b[0m ─────────────────────────────────╮\n",
       "│ ╭───┬───────────────────────────────────────────────╮                                                           │\n",
       "│ │\u001b[1m \u001b[0m\u001b[1m \u001b[0m\u001b[1m \u001b[0m│\u001b[1m \u001b[0m\u001b[1mStandard Financial Statements                \u001b[0m\u001b[1m \u001b[0m│                                                           │\n",
       "│ ├───┼───────────────────────────────────────────────┤                                                           │\n",
       "│ │ 1 │ Cover Page                                    │                                                           │\n",
       "│ │ 2 │ Consolidated Balance Sheets                   │                                                           │\n",
       "│ │ 3 │ Income Statements                             │                                                           │\n",
       "│ │ 4 │ Consolidated Statement of Cash Flows          │                                                           │\n",
       "│ │ 5 │ Consolidated Statement of Shareholders Equity │                                                           │\n",
       "│ │ 6 │ Comprehensive Income Statement                │                                                           │\n",
       "│ ╰───┴───────────────────────────────────────────────╯                                                           │\n",
       "╰─────────────────────────────────────────────────────────────────────────────────────────────────────────────────╯\n",
       ">"
      ]
     },
     "execution_count": 21,
     "metadata": {},
     "output_type": "execute_result"
    }
   ],
   "source": [
    "# another way to get balance sheet\n",
    "tenk = Company(\"AAPL\").get_filings(form=\"10-K\").latest(1).obj()\n",
    "financials = tenk.financials\n",
    "financials.get_balance_sheet"
   ]
  },
  {
   "cell_type": "markdown",
   "id": "2f35cea4",
   "metadata": {},
   "source": [
    "# Step 1.1: azure Document Intelligence\n",
    "\n",
    "Input: a pdf n\n",
    "\n",
    "Output: location of identified text, table and figures with corresponding text"
   ]
  },
  {
   "cell_type": "code",
   "execution_count": 16,
   "id": "83eaf860",
   "metadata": {},
   "outputs": [
    {
     "name": "stdout",
     "output_type": "stream",
     "text": [
      "/Users/lingruiz/Documents/capstone/data/10k/plya_consolidated_balance_sheets.pdf\n"
     ]
    }
   ],
   "source": [
    "# sample document\n",
    "base_path = os.path.abspath(os.path.join(os.getcwd(), '../data'))\n",
    "\n",
    "formPath = os.path.join(base_path, \"10k/plya_consolidated_balance_sheets.pdf\")\n",
    "print(formPath)"
   ]
  },
  {
   "cell_type": "code",
   "execution_count": 20,
   "id": "6858fc93",
   "metadata": {},
   "outputs": [],
   "source": [
    "def open_pdf(path):\n",
    "    with open(path, \"rb\") as f:\n",
    "        return f.read()\n",
    "\n",
    "\n",
    "def get_result(formPath, client):\n",
    "    # read and analyze the document\n",
    "    poller = client.begin_analyze_document(\"prebuilt-layout\", open_pdf(formPath))\n",
    "    result = poller.result()\n",
    "    return result"
   ]
  },
  {
   "cell_type": "code",
   "execution_count": 21,
   "id": "f75096ec",
   "metadata": {},
   "outputs": [],
   "source": [
    "# create a client\n",
    "document_analysis_client = DocumentAnalysisClient(\n",
    "    endpoint=endpoint, credential=AzureKeyCredential(key)\n",
    ")"
   ]
  },
  {
   "cell_type": "code",
   "execution_count": 22,
   "id": "516a7439",
   "metadata": {},
   "outputs": [],
   "source": [
    "# run the service, save result\n",
    "result = get_result(formPath, document_analysis_client)\n"
   ]
  },
  {
   "cell_type": "markdown",
   "id": "2591a050",
   "metadata": {},
   "source": [
    "## Explore result structure"
   ]
  },
  {
   "cell_type": "code",
   "execution_count": 42,
   "id": "7b441b81",
   "metadata": {},
   "outputs": [
    {
     "name": "stdout",
     "output_type": "stream",
     "text": [
      "table #0: \n",
      "row count:32\n",
      "column count:3 \n",
      "\n",
      "table #1: \n",
      "row count:32\n",
      "column count:4 \n",
      "\n"
     ]
    }
   ],
   "source": [
    "# tables are embedded in result.tables, to query the tables, do the following: \n",
    "# result.tables returns a list of tables in the pdf document, \n",
    "# access row count with row_count, and column count with column_count\n",
    "\n",
    "\n",
    "for index, table in enumerate(result.tables):\n",
    "    print(f\"table #{index}: \\nrow count:{table.row_count}\")\n",
    "    print(f\"column count:{table.column_count} \\n\")"
   ]
  },
  {
   "cell_type": "markdown",
   "id": "75244755",
   "metadata": {},
   "source": [
    "## Convert result to df/csv"
   ]
  },
  {
   "cell_type": "code",
   "execution_count": 45,
   "id": "4c84c4f5",
   "metadata": {},
   "outputs": [],
   "source": [
    "def convert_azdoc_todf(tables):\n",
    "    tablesCollected = []\n",
    "    for table_idx, table in enumerate(tables):\n",
    "        # Initialize an empty matrix\n",
    "        matrix = [[\"\" for _ in range(table.column_count)] for _ in range(table.row_count)]\n",
    "        tablesCollected.append(matrix)\n",
    "        for cell in table.cells:\n",
    "            row_index = cell.row_index\n",
    "            column_index = cell.column_index\n",
    "\n",
    "            if row_index < table.row_count and column_index < table.column_count:\n",
    "                matrix[row_index][column_index] = cell.content\n",
    "    \n",
    "    return tablesCollected"
   ]
  },
  {
   "cell_type": "code",
   "execution_count": 93,
   "id": "f0484672",
   "metadata": {},
   "outputs": [
    {
     "data": {
      "text/plain": [
       "[[['', 'As of December 31,', ''],\n",
       "  ['', '2023', '2022'],\n",
       "  ['ASSETS', '', ''],\n",
       "  ['Cash and cash equivalents', '$ 272,520', '$ 283,945'],\n",
       "  ['Trade and other receivables, net', '74,762', '62,946'],\n",
       "  ['Insurance recoverable', '9,821', '34,191'],\n",
       "  ['Accounts receivable from related parties', '5,861', '8,806'],\n",
       "  ['Inventories', '19,963', '20,046'],\n",
       "  ['Prepayments and other assets', '54,294', '44,177'],\n",
       "  ['Property and equipment, net', '1,415,572', '1,536,567'],\n",
       "  ['Derivative financial instruments', '2,966', '3,510'],\n",
       "  ['Goodwill, net\\n:unselected:', '60,642', '61,654'],\n",
       "  ['Other intangible assets\\n:unselected:', '4,357', '6,556'],\n",
       "  ['Deferred tax assets', '12,967', '7,422'],\n",
       "  ['Total assets', '$ 1,933,725', '$ 2,069,820'],\n",
       "  [\"LIABILITIES AND SHAREHOLDERS' EQUITY\", '', ''],\n",
       "  ['Trade and other payables', '$ 196,432', '$ 231,652'],\n",
       "  ['Payables to related parties', '10,743', '6,852'],\n",
       "  ['Income tax payable', '11,592', '990'],\n",
       "  ['Debt', '1,061,376', '1,065,453'],\n",
       "  ['Other liabilities\\n:unselected:', '33,970', '30,685'],\n",
       "  ['Deferred tax liabilities\\n:unselected:', '64,815', '69,326'],\n",
       "  ['Total liabilities', '1,378,928', '1,404,958'],\n",
       "  ['Commitments and contingencies (see Note 7)', '', ''],\n",
       "  [\"Shareholders' equity\", '', ''],\n",
       "  ['Ordinary shares (par value €0.10; 500,000,000 shares authorized, 169,423,980 shares issued and 136,081,891 shares outstanding as of December 31, 2023, and 168,275,504 shares issued and 158,228,508 shares outstanding as of December 31, 2022)',\n",
       "   '18,822',\n",
       "   '18,700'],\n",
       "  ['Treasury shares (at cost, 33,342,089 shares as of December 31, 2023 and 10,046,996 shares as of December 31, 2022)',\n",
       "   '(248,174)',\n",
       "   '(62,953)'],\n",
       "  ['Paid-in capital', '1,202,175', '1,189,090'],\n",
       "  ['Accumulated other comprehensive income (loss)', '1,112', '(6,985)'],\n",
       "  ['Accumulated deficit', '(419,138)', '(472,990)'],\n",
       "  [\"Total shareholders' equity\", '554,797', '664,862'],\n",
       "  [\"Total liabilities and shareholders' equity\",\n",
       "   '$ 1,933,725',\n",
       "   '$ 2,069,820']],\n",
       " [['', 'Year Ended December 31,', '', ''],\n",
       "  ['', '2023', '2022', '2021'],\n",
       "  ['Revenue', '', '', ''],\n",
       "  ['Package', '$ 824,122', '$ 723,375', '$ 445,763'],\n",
       "  ['Non-package', '121,422', '116,602', '79,805'],\n",
       "  ['The Playa Collection', '3,642', '1,752', '—'],\n",
       "  ['Management fees', '7,030', '3,828', '2,291'],\n",
       "  ['Cost reimbursements', '12,475', '9,706', '5,806'],\n",
       "  ['Other revenues\\n:unselected:', '8,813', '1,000', '974'],\n",
       "  ['Total revenue', '977,504', '856,263', '534,639'],\n",
       "  ['Direct and selling, general and administrative expenses', '', '', ''],\n",
       "  ['Direct', '516,449', '459,030', '326,979'],\n",
       "  ['Selling, general and administrative', '192,822', '186,608', '119,895'],\n",
       "  ['Depreciation and amortization', '81,827', '78,372', '81,508'],\n",
       "  ['Reimbursed costs', '12,475', '9,706', '5,806'],\n",
       "  ['Impairment loss', '—', '—', '24,011'],\n",
       "  ['Loss on sale of assets', '5,069', '6', '676'],\n",
       "  ['Gain on insurance proceeds', '(5,580)', '—', '—'],\n",
       "  ['Business interruption insurance recoveries', '(555)', '(7,226)', '—'],\n",
       "  ['Direct and selling, general and administrative expenses',\n",
       "   '802,507',\n",
       "   '726,496',\n",
       "   '558,875'],\n",
       "  ['Operating income (loss)', '174,997', '129,767', '(24,236)'],\n",
       "  ['Interest expense', '(108,184)', '(64,164)', '(71,378)'],\n",
       "  ['Loss on extinguishment of debt', '(894)', '(18,307)', '—'],\n",
       "  ['Other (expense) income', '(353)', '3,857', '(1,471)'],\n",
       "  ['Net income (loss) before tax', '65,566', '51,153', '(97,085)'],\n",
       "  ['Income tax (provision) benefit', '(11,714)', '5,553', '7,403'],\n",
       "  ['Net income (loss)', '$ 53,852', '$ 56,706', '$ (89,682)'],\n",
       "  ['Earnings (loss) per share', '', '', ''],\n",
       "  ['Basic', '$ 0.36', '$ 0.34', '$ (0.55)'],\n",
       "  ['Diluted', '$ 0.36', '$ 0.34', '$ (0.55)'],\n",
       "  ['Weighted average number of shares outstanding during the period - Basic',\n",
       "   '148,063,358',\n",
       "   '164,782,886',\n",
       "   '163,370,410'],\n",
       "  ['Weighted average number of shares outstanding during the period - Diluted',\n",
       "   '150,309,674',\n",
       "   '166,077,802',\n",
       "   '163,370,410']]]"
      ]
     },
     "execution_count": 93,
     "metadata": {},
     "output_type": "execute_result"
    }
   ],
   "source": [
    "convert_azdoc_todf(result.tables)"
   ]
  },
  {
   "cell_type": "code",
   "execution_count": 90,
   "id": "6f4c777f",
   "metadata": {},
   "outputs": [],
   "source": [
    "def convert_azdoc_tostring(tables):\n",
    "    result = \"\"\n",
    "    for table_idx, table in enumerate(tables):\n",
    "        result += f\"Table {table_idx + 1}:\\n\"\n",
    "        matrix = [[\"\" for _ in range(table.column_count)] for _ in range(table.row_count)]\n",
    "        \n",
    "        for cell in table.cells:\n",
    "            row_index = cell.row_index\n",
    "            column_index = cell.column_index\n",
    "\n",
    "            if row_index < table.row_count and column_index < table.column_count:\n",
    "                matrix[row_index][column_index] = cell.content\n",
    "        \n",
    "        # Convert each row in the matrix to a string\n",
    "        for row in matrix:\n",
    "            row_str = \"\\t\".join(row)  # Separate columns by tabs for readability\n",
    "            result += row_str + \"\\n\"\n",
    "        \n",
    "        result += \"\\n\"  # Separate tables by a blank line\n",
    "        \n",
    "    return result\n",
    "\n",
    "def convert_azdoc_to_markdown(tables):\n",
    "    markdown_tables = \"\"\n",
    "    for table_idx, table in enumerate(tables):\n",
    "        # Initialize an empty matrix for the table\n",
    "        matrix = [[\"\" for _ in range(table.column_count)] for _ in range(table.row_count)]\n",
    "        \n",
    "        # Fill in the matrix with cell content\n",
    "        for cell in table.cells:\n",
    "            row_index = cell.row_index\n",
    "            column_index = cell.column_index\n",
    "            if row_index < table.row_count and column_index < table.column_count:\n",
    "                matrix[row_index][column_index] = cell.content\n",
    "        \n",
    "        # Convert matrix to Markdown format\n",
    "        markdown_table = \"| \" + \" | \".join(matrix[0]) + \" |\\n\"  # Header row\n",
    "        markdown_table += \"| \" + \" | \".join(['---' for _ in matrix[0]]) + \" |\\n\"  # Divider row\n",
    "        \n",
    "        for row in matrix[1:]:  # Data rows\n",
    "            markdown_table += \"| \" + \" | \".join(row) + \" |\\n\"\n",
    "        \n",
    "        # Add each table to the result with a separating line between tables\n",
    "        markdown_tables += f\"### Table {table_idx + 1}\\n\" + markdown_table + \"\\n\\n\"\n",
    "    \n",
    "    return markdown_tables\n",
    "\n"
   ]
  },
  {
   "cell_type": "code",
   "execution_count": 91,
   "id": "ae84751e",
   "metadata": {},
   "outputs": [],
   "source": [
    "table_md = convert_azdoc_to_markdown(result.tables)"
   ]
  },
  {
   "cell_type": "markdown",
   "id": "aa207a97",
   "metadata": {},
   "source": [
    "# Step 2: Credit Score Calculations"
   ]
  },
  {
   "cell_type": "code",
   "execution_count": null,
   "id": "60ddb004",
   "metadata": {},
   "outputs": [],
   "source": [
    "# TODO: find some numeric driven calculations to perform credit scoring related calculations, \n",
    "# before feeding the results into LLM"
   ]
  },
  {
   "cell_type": "markdown",
   "id": "35c7a4b6",
   "metadata": {},
   "source": [
    "# Step 3: Credit Score Analysis"
   ]
  },
  {
   "cell_type": "markdown",
   "id": "7a0a3c99",
   "metadata": {},
   "source": [
    "### OpenAI GPT-4"
   ]
  },
  {
   "cell_type": "code",
   "execution_count": 84,
   "id": "5dadb15c",
   "metadata": {},
   "outputs": [
    {
     "data": {
      "text/plain": [
       "'https://ai-lingruiz7765ai414752438778.openai.azure.com'"
      ]
     },
     "execution_count": 84,
     "metadata": {},
     "output_type": "execute_result"
    }
   ],
   "source": [
    "gpt4_endpoint"
   ]
  },
  {
   "cell_type": "code",
   "execution_count": 80,
   "id": "93a2c035",
   "metadata": {},
   "outputs": [],
   "source": [
    "from openai import AzureOpenAI\n",
    "    \n",
    "client = AzureOpenAI(\n",
    "    api_key=gpt4_key,  \n",
    "    api_version=\"2024-08-01-preview\",\n",
    "    azure_endpoint = gpt4_endpoint\n",
    "    )"
   ]
  },
  {
   "cell_type": "code",
   "execution_count": 87,
   "id": "491fad87",
   "metadata": {},
   "outputs": [],
   "source": [
    "SYSTEM_PROMPT = \"given the balance sheet above, calculate below ratios: Current Ratio = Current Assets / Current Liabilities and compute  a credit score to evaluate the financial status of the company\""
   ]
  },
  {
   "cell_type": "code",
   "execution_count": null,
   "id": "17fd7a26",
   "metadata": {},
   "outputs": [],
   "source": [
    "# Define deployment name for the model\n",
    "# if needed, add to session chat history to prior prompt the model\n",
    "# example use: \n",
    "# {\"role\": \"user\", \"content\": \"Does Azure OpenAI support customer managed keys?\"},\n",
    "#  # {\"role\": \"assistant\", \"content\": \"Yes, customer managed keys are supported by Azure OpenAI.\"},\n",
    "# exceeding rate limit will result in 429 error\n",
    "deployment_name = 'gpt-4'\n",
    "\n",
    "response = client.chat.completions.create(\n",
    "    model=\"gpt-4\",\n",
    "    messages=[\n",
    "        {\"role\": \"system\", \"content\": SYSTEM_PROMPT},\n",
    "        {\"role\": \"user\", \"content\": table_md}\n",
    "    ]\n",
    ")\n",
    "\n",
    "print(response.choices[0].message.content)\n"
   ]
  },
  {
   "cell_type": "markdown",
   "id": "3265efc2",
   "metadata": {},
   "source": [
    "### FinGPT "
   ]
  },
  {
   "cell_type": "code",
   "execution_count": 95,
   "id": "f0a95061",
   "metadata": {},
   "outputs": [
    {
     "name": "stderr",
     "output_type": "stream",
     "text": [
      "None of PyTorch, TensorFlow >= 2.0, or Flax have been found. Models won't be available and only tokenizers, configuration and file/data utilities can be used.\n"
     ]
    },
    {
     "ename": "RuntimeError",
     "evalue": "Failed to import transformers.models.llama.tokenization_llama_fast because of the following error (look up to see its traceback):\ntokenizers>=0.13.3 is required for a normal functioning of this module, but found tokenizers==0.13.2.",
     "output_type": "error",
     "traceback": [
      "\u001b[0;31m---------------------------------------------------------------------------\u001b[0m",
      "\u001b[0;31mImportError\u001b[0m                               Traceback (most recent call last)",
      "File \u001b[0;32m~/anaconda3/lib/python3.11/site-packages/transformers/utils/import_utils.py:1130\u001b[0m, in \u001b[0;36m_LazyModule._get_module\u001b[0;34m(self, module_name)\u001b[0m\n\u001b[1;32m   1129\u001b[0m \u001b[38;5;28;01mtry\u001b[39;00m:\n\u001b[0;32m-> 1130\u001b[0m     \u001b[38;5;28;01mreturn\u001b[39;00m importlib\u001b[38;5;241m.\u001b[39mimport_module(\u001b[38;5;124m\"\u001b[39m\u001b[38;5;124m.\u001b[39m\u001b[38;5;124m\"\u001b[39m \u001b[38;5;241m+\u001b[39m module_name, \u001b[38;5;28mself\u001b[39m\u001b[38;5;241m.\u001b[39m\u001b[38;5;18m__name__\u001b[39m)\n\u001b[1;32m   1131\u001b[0m \u001b[38;5;28;01mexcept\u001b[39;00m \u001b[38;5;167;01mException\u001b[39;00m \u001b[38;5;28;01mas\u001b[39;00m e:\n",
      "File \u001b[0;32m~/anaconda3/lib/python3.11/importlib/__init__.py:126\u001b[0m, in \u001b[0;36mimport_module\u001b[0;34m(name, package)\u001b[0m\n\u001b[1;32m    125\u001b[0m         level \u001b[38;5;241m+\u001b[39m\u001b[38;5;241m=\u001b[39m \u001b[38;5;241m1\u001b[39m\n\u001b[0;32m--> 126\u001b[0m \u001b[38;5;28;01mreturn\u001b[39;00m _bootstrap\u001b[38;5;241m.\u001b[39m_gcd_import(name[level:], package, level)\n",
      "File \u001b[0;32m<frozen importlib._bootstrap>:1204\u001b[0m, in \u001b[0;36m_gcd_import\u001b[0;34m(name, package, level)\u001b[0m\n",
      "File \u001b[0;32m<frozen importlib._bootstrap>:1176\u001b[0m, in \u001b[0;36m_find_and_load\u001b[0;34m(name, import_)\u001b[0m\n",
      "File \u001b[0;32m<frozen importlib._bootstrap>:1147\u001b[0m, in \u001b[0;36m_find_and_load_unlocked\u001b[0;34m(name, import_)\u001b[0m\n",
      "File \u001b[0;32m<frozen importlib._bootstrap>:690\u001b[0m, in \u001b[0;36m_load_unlocked\u001b[0;34m(spec)\u001b[0m\n",
      "File \u001b[0;32m<frozen importlib._bootstrap_external>:940\u001b[0m, in \u001b[0;36mexec_module\u001b[0;34m(self, module)\u001b[0m\n",
      "File \u001b[0;32m<frozen importlib._bootstrap>:241\u001b[0m, in \u001b[0;36m_call_with_frames_removed\u001b[0;34m(f, *args, **kwds)\u001b[0m\n",
      "File \u001b[0;32m~/anaconda3/lib/python3.11/site-packages/transformers/models/llama/tokenization_llama_fast.py:29\u001b[0m\n\u001b[1;32m     27\u001b[0m     \u001b[38;5;28;01mfrom\u001b[39;00m \u001b[38;5;21;01mtransformers\u001b[39;00m\u001b[38;5;21;01m.\u001b[39;00m\u001b[38;5;21;01mpipelines\u001b[39;00m\u001b[38;5;21;01m.\u001b[39;00m\u001b[38;5;21;01mconversational\u001b[39;00m \u001b[38;5;28;01mimport\u001b[39;00m Conversation\n\u001b[0;32m---> 29\u001b[0m require_version(\u001b[38;5;124m\"\u001b[39m\u001b[38;5;124mtokenizers>=0.13.3\u001b[39m\u001b[38;5;124m\"\u001b[39m)\n\u001b[1;32m     31\u001b[0m \u001b[38;5;28;01mif\u001b[39;00m is_sentencepiece_available():\n",
      "File \u001b[0;32m~/anaconda3/lib/python3.11/site-packages/transformers/utils/versions.py:111\u001b[0m, in \u001b[0;36mrequire_version\u001b[0;34m(requirement, hint)\u001b[0m\n\u001b[1;32m    110\u001b[0m \u001b[38;5;28;01mfor\u001b[39;00m op, want_ver \u001b[38;5;129;01min\u001b[39;00m wanted\u001b[38;5;241m.\u001b[39mitems():\n\u001b[0;32m--> 111\u001b[0m     _compare_versions(op, got_ver, want_ver, requirement, pkg, hint)\n",
      "File \u001b[0;32m~/anaconda3/lib/python3.11/site-packages/transformers/utils/versions.py:44\u001b[0m, in \u001b[0;36m_compare_versions\u001b[0;34m(op, got_ver, want_ver, requirement, pkg, hint)\u001b[0m\n\u001b[1;32m     43\u001b[0m \u001b[38;5;28;01mif\u001b[39;00m \u001b[38;5;129;01mnot\u001b[39;00m ops[op](version\u001b[38;5;241m.\u001b[39mparse(got_ver), version\u001b[38;5;241m.\u001b[39mparse(want_ver)):\n\u001b[0;32m---> 44\u001b[0m     \u001b[38;5;28;01mraise\u001b[39;00m \u001b[38;5;167;01mImportError\u001b[39;00m(\n\u001b[1;32m     45\u001b[0m         \u001b[38;5;124mf\u001b[39m\u001b[38;5;124m\"\u001b[39m\u001b[38;5;132;01m{\u001b[39;00mrequirement\u001b[38;5;132;01m}\u001b[39;00m\u001b[38;5;124m is required for a normal functioning of this module, but found \u001b[39m\u001b[38;5;132;01m{\u001b[39;00mpkg\u001b[38;5;132;01m}\u001b[39;00m\u001b[38;5;124m==\u001b[39m\u001b[38;5;132;01m{\u001b[39;00mgot_ver\u001b[38;5;132;01m}\u001b[39;00m\u001b[38;5;124m.\u001b[39m\u001b[38;5;132;01m{\u001b[39;00mhint\u001b[38;5;132;01m}\u001b[39;00m\u001b[38;5;124m\"\u001b[39m\n\u001b[1;32m     46\u001b[0m     )\n",
      "\u001b[0;31mImportError\u001b[0m: tokenizers>=0.13.3 is required for a normal functioning of this module, but found tokenizers==0.13.2.",
      "\nThe above exception was the direct cause of the following exception:\n",
      "\u001b[0;31mRuntimeError\u001b[0m                              Traceback (most recent call last)",
      "Cell \u001b[0;32mIn[95], line 1\u001b[0m\n\u001b[0;32m----> 1\u001b[0m \u001b[38;5;28;01mfrom\u001b[39;00m \u001b[38;5;21;01mtransformers\u001b[39;00m \u001b[38;5;28;01mimport\u001b[39;00m AutoModel, AutoTokenizer, AutoModelForCausalLM, LlamaForCausalLM, LlamaTokenizerFast\n\u001b[1;32m      2\u001b[0m \u001b[38;5;28;01mfrom\u001b[39;00m \u001b[38;5;21;01mpeft\u001b[39;00m \u001b[38;5;28;01mimport\u001b[39;00m PeftModel  \u001b[38;5;66;03m# 0.5.0\u001b[39;00m\n\u001b[1;32m      4\u001b[0m \u001b[38;5;66;03m# Load Models\u001b[39;00m\n",
      "File \u001b[0;32m<frozen importlib._bootstrap>:1229\u001b[0m, in \u001b[0;36m_handle_fromlist\u001b[0;34m(module, fromlist, import_, recursive)\u001b[0m\n",
      "File \u001b[0;32m~/anaconda3/lib/python3.11/site-packages/transformers/utils/import_utils.py:1121\u001b[0m, in \u001b[0;36m_LazyModule.__getattr__\u001b[0;34m(self, name)\u001b[0m\n\u001b[1;32m   1119\u001b[0m \u001b[38;5;28;01melif\u001b[39;00m name \u001b[38;5;129;01min\u001b[39;00m \u001b[38;5;28mself\u001b[39m\u001b[38;5;241m.\u001b[39m_class_to_module\u001b[38;5;241m.\u001b[39mkeys():\n\u001b[1;32m   1120\u001b[0m     module \u001b[38;5;241m=\u001b[39m \u001b[38;5;28mself\u001b[39m\u001b[38;5;241m.\u001b[39m_get_module(\u001b[38;5;28mself\u001b[39m\u001b[38;5;241m.\u001b[39m_class_to_module[name])\n\u001b[0;32m-> 1121\u001b[0m     value \u001b[38;5;241m=\u001b[39m \u001b[38;5;28mgetattr\u001b[39m(module, name)\n\u001b[1;32m   1122\u001b[0m \u001b[38;5;28;01melse\u001b[39;00m:\n\u001b[1;32m   1123\u001b[0m     \u001b[38;5;28;01mraise\u001b[39;00m \u001b[38;5;167;01mAttributeError\u001b[39;00m(\u001b[38;5;124mf\u001b[39m\u001b[38;5;124m\"\u001b[39m\u001b[38;5;124mmodule \u001b[39m\u001b[38;5;132;01m{\u001b[39;00m\u001b[38;5;28mself\u001b[39m\u001b[38;5;241m.\u001b[39m\u001b[38;5;18m__name__\u001b[39m\u001b[38;5;132;01m}\u001b[39;00m\u001b[38;5;124m has no attribute \u001b[39m\u001b[38;5;132;01m{\u001b[39;00mname\u001b[38;5;132;01m}\u001b[39;00m\u001b[38;5;124m\"\u001b[39m)\n",
      "File \u001b[0;32m~/anaconda3/lib/python3.11/site-packages/transformers/utils/import_utils.py:1120\u001b[0m, in \u001b[0;36m_LazyModule.__getattr__\u001b[0;34m(self, name)\u001b[0m\n\u001b[1;32m   1118\u001b[0m     value \u001b[38;5;241m=\u001b[39m \u001b[38;5;28mself\u001b[39m\u001b[38;5;241m.\u001b[39m_get_module(name)\n\u001b[1;32m   1119\u001b[0m \u001b[38;5;28;01melif\u001b[39;00m name \u001b[38;5;129;01min\u001b[39;00m \u001b[38;5;28mself\u001b[39m\u001b[38;5;241m.\u001b[39m_class_to_module\u001b[38;5;241m.\u001b[39mkeys():\n\u001b[0;32m-> 1120\u001b[0m     module \u001b[38;5;241m=\u001b[39m \u001b[38;5;28mself\u001b[39m\u001b[38;5;241m.\u001b[39m_get_module(\u001b[38;5;28mself\u001b[39m\u001b[38;5;241m.\u001b[39m_class_to_module[name])\n\u001b[1;32m   1121\u001b[0m     value \u001b[38;5;241m=\u001b[39m \u001b[38;5;28mgetattr\u001b[39m(module, name)\n\u001b[1;32m   1122\u001b[0m \u001b[38;5;28;01melse\u001b[39;00m:\n",
      "File \u001b[0;32m~/anaconda3/lib/python3.11/site-packages/transformers/utils/import_utils.py:1132\u001b[0m, in \u001b[0;36m_LazyModule._get_module\u001b[0;34m(self, module_name)\u001b[0m\n\u001b[1;32m   1130\u001b[0m     \u001b[38;5;28;01mreturn\u001b[39;00m importlib\u001b[38;5;241m.\u001b[39mimport_module(\u001b[38;5;124m\"\u001b[39m\u001b[38;5;124m.\u001b[39m\u001b[38;5;124m\"\u001b[39m \u001b[38;5;241m+\u001b[39m module_name, \u001b[38;5;28mself\u001b[39m\u001b[38;5;241m.\u001b[39m\u001b[38;5;18m__name__\u001b[39m)\n\u001b[1;32m   1131\u001b[0m \u001b[38;5;28;01mexcept\u001b[39;00m \u001b[38;5;167;01mException\u001b[39;00m \u001b[38;5;28;01mas\u001b[39;00m e:\n\u001b[0;32m-> 1132\u001b[0m     \u001b[38;5;28;01mraise\u001b[39;00m \u001b[38;5;167;01mRuntimeError\u001b[39;00m(\n\u001b[1;32m   1133\u001b[0m         \u001b[38;5;124mf\u001b[39m\u001b[38;5;124m\"\u001b[39m\u001b[38;5;124mFailed to import \u001b[39m\u001b[38;5;132;01m{\u001b[39;00m\u001b[38;5;28mself\u001b[39m\u001b[38;5;241m.\u001b[39m\u001b[38;5;18m__name__\u001b[39m\u001b[38;5;132;01m}\u001b[39;00m\u001b[38;5;124m.\u001b[39m\u001b[38;5;132;01m{\u001b[39;00mmodule_name\u001b[38;5;132;01m}\u001b[39;00m\u001b[38;5;124m because of the following error (look up to see its\u001b[39m\u001b[38;5;124m\"\u001b[39m\n\u001b[1;32m   1134\u001b[0m         \u001b[38;5;124mf\u001b[39m\u001b[38;5;124m\"\u001b[39m\u001b[38;5;124m traceback):\u001b[39m\u001b[38;5;130;01m\\n\u001b[39;00m\u001b[38;5;132;01m{\u001b[39;00me\u001b[38;5;132;01m}\u001b[39;00m\u001b[38;5;124m\"\u001b[39m\n\u001b[1;32m   1135\u001b[0m     ) \u001b[38;5;28;01mfrom\u001b[39;00m \u001b[38;5;21;01me\u001b[39;00m\n",
      "\u001b[0;31mRuntimeError\u001b[0m: Failed to import transformers.models.llama.tokenization_llama_fast because of the following error (look up to see its traceback):\ntokenizers>=0.13.3 is required for a normal functioning of this module, but found tokenizers==0.13.2."
     ]
    }
   ],
   "source": [
    "from transformers import AutoModel, AutoTokenizer, AutoModelForCausalLM, LlamaForCausalLM, LlamaTokenizerFast\n",
    "from peft import PeftModel  # 0.5.0\n",
    "\n",
    "# Load Models\n",
    "base_model = \"NousResearch/Llama-2-13b-hf\" \n",
    "peft_model = \"FinGPT/fingpt-sentiment_llama2-13b_lora\"\n",
    "tokenizer = LlamaTokenizerFast.from_pretrained(base_model, trust_remote_code=True)\n",
    "tokenizer.pad_token = tokenizer.eos_token\n",
    "model = LlamaForCausalLM.from_pretrained(base_model, trust_remote_code=True, device_map = \"cuda:0\", load_in_8bit = True,)\n",
    "model = PeftModel.from_pretrained(model, peft_model)\n",
    "model = model.eval()\n",
    "\n",
    "# Make prompts\n",
    "prompt = [\n",
    "'''Instruction: What is the sentiment of this news? Please choose an answer from {negative/neutral/positive}\n",
    "Input: FINANCING OF ASPOCOMP 'S GROWTH Aspocomp is aggressively pursuing its growth strategy by increasingly focusing on technologically more demanding HDI printed circuit boards PCBs .\n",
    "Answer: ''',\n",
    "'''Instruction: What is the sentiment of this news? Please choose an answer from {negative/neutral/positive}\n",
    "Input: According to Gran , the company has no plans to move all production to Russia , although that is where the company is growing .\n",
    "Answer: ''',\n",
    "'''Instruction: What is the sentiment of this news? Please choose an answer from {negative/neutral/positive}\n",
    "Input: A tinyurl link takes users to a scamming site promising that users can earn thousands of dollars by becoming a Google ( NASDAQ : GOOG ) Cash advertiser .\n",
    "Answer: ''',\n",
    "]\n",
    "\n",
    "# Generate results\n",
    "tokens = tokenizer(prompt, return_tensors='pt', padding=True, max_length=512)\n",
    "res = model.generate(**tokens, max_length=512)\n",
    "res_sentences = [tokenizer.decode(i) for i in res]\n",
    "out_text = [o.split(\"Answer: \")[1] for o in res_sentences]\n",
    "\n",
    "# show results\n",
    "for sentiment in out_text:\n",
    "    print(sentiment)\n",
    "\n",
    "# Output:    \n",
    "# positive\n",
    "# neutral\n",
    "# negative"
   ]
  },
  {
   "cell_type": "markdown",
   "id": "f6b6096c",
   "metadata": {},
   "source": []
  },
  {
   "cell_type": "markdown",
   "id": "76b98b51",
   "metadata": {},
   "source": [
    "### Claude Financial Analyst"
   ]
  },
  {
   "cell_type": "markdown",
   "id": "37c487d5",
   "metadata": {},
   "source": []
  }
 ],
 "metadata": {
  "kernelspec": {
   "display_name": "base",
   "language": "python",
   "name": "python3"
  },
  "language_info": {
   "codemirror_mode": {
    "name": "ipython",
    "version": 3
   },
   "file_extension": ".py",
   "mimetype": "text/x-python",
   "name": "python",
   "nbconvert_exporter": "python",
   "pygments_lexer": "ipython3",
   "version": "3.11.5"
  }
 },
 "nbformat": 4,
 "nbformat_minor": 5
}
